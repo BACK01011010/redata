{
 "cells": [
  {
   "cell_type": "markdown",
   "metadata": {},
   "source": [
    "# 兰州天气数据分析（使用Plotly可视化）\n",
    "\n",
    "本notebook使用Plotly库进行交互式可视化分析，包括：\n",
    "1. 数据预处理\n",
    "2. 温度分析\n",
    "3. 天气状况分析\n",
    "4. 风力分析\n",
    "5. 综合分析\n",
    "6. 预测分析"
   ]
  },
  {
   "cell_type": "code",
   "execution_count": null,
   "metadata": {},
   "source": [
    "# 导入必要的库\n",
    "import pandas as pd\n",
    "import numpy as np\n",
    "import plotly.express as px\n",
    "import plotly.graph_objects as go\n",
    "from plotly.subplots import make_subplots\n",
    "import re\n",
    "from scipy import stats"
   ]
  },
  {
   "cell_type": "code",
   "execution_count": null,
   "metadata": {},
   "source": [
    "# 读取数据\n",
    "df = pd.read_excel('lanzhou_weather_data.xlsx')\n",
    "\n",
    "# 数据预处理函数\n",
    "def extract_temperature(temp_str):\n",
    "    \"\"\"提取温度数值\"\"\"\n",
    "    return int(temp_str.replace('℃', ''))\n",
    "\n",
    "def extract_wind_direction(wind_str):\n",
    "    \"\"\"提取风向\"\"\"\n",
    "    if '无持续风向' in wind_str:\n",
    "        return '无持续风向'\n",
    "    return wind_str.split()[0]\n",
    "\n",
    "def extract_wind_force(wind_str):\n",
    "    \"\"\"提取风力等级\"\"\"\n",
    "    match = re.search(r'(\\d+)-(\\d+)级', wind_str)\n",
    "    if match:\n",
    "        return (int(match.group(1)) + int(match.group(2))) / 2\n",
    "    return np.nan\n",
    "\n",
    "# 处理日期\n",
    "df['日期'] = pd.to_datetime(df['日期'], format='%Y年%m月%d日')\n",
    "\n",
    "# 处理温度\n",
    "df['最高气温_数值'] = df['最高气温'].apply(extract_temperature)\n",
    "df['最低气温_数值'] = df['最低气温'].apply(extract_temperature)\n",
    "df['日温差'] = df['最高气温_数值'] - df['最低气温_数值']\n",
    "\n",
    "# 处理风向和风力\n",
    "df['白天风向'] = df['白天风力'].apply(extract_wind_direction)\n",
    "df['夜间风向'] = df['夜间风力'].apply(extract_wind_direction)\n",
    "df['白天风力等级'] = df['白天风力'].apply(extract_wind_force)\n",
    "df['夜间风力等级'] = df['夜间风力'].apply(extract_wind_force)\n",
    "\n",
    "# 添加时间特征\n",
    "df['年'] = df['日期'].dt.year\n",
    "df['月'] = df['日期'].dt.month\n",
    "df['季节'] = pd.cut(df['月'], \n",
    "                  bins=[0, 3, 6, 9, 12], \n",
    "                  labels=['春季', '夏季', '秋季', '冬季'])"
   ]
  },
  {
   "cell_type": "markdown",
   "metadata": {},
   "source": [
    "## 2. 温度分析"
   ]
  },
  {
   "cell_type": "code",
   "execution_count": null,
   "metadata": {},
   "source": [
    "# 2.1 年度温度变化趋势\n",
    "fig = go.Figure()\n",
    "\n",
    "fig.add_trace(go.Scatter(\n",
    "    x=df['日期'],\n",
    "    y=df['最高气温_数值'],\n",
    "    name='最高气温',\n",
    "    mode='lines',\n",
    "    line=dict(color='red', width=1)\n",
    "))\n",
    "\n",
    "fig.add_trace(go.Scatter(\n",
    "    x=df['日期'],\n",
    "    y=df['最低气温_数值'],\n",
    "    name='最低气温',\n",
    "    mode='lines',\n",
    "    line=dict(color='blue', width=1)\n",
    "))\n",
    "\n",
    "fig.update_layout(\n",
    "    title='兰州市气温变化趋势',\n",
    "    xaxis_title='日期',\n",
    "    yaxis_title='温度(℃)',\n",
    "    hovermode='x unified'\n",
    ")\n",
    "\n",
    "fig.show()\n",
    "\n",
    "# 2.2 季节性温度分布\n",
    "fig = px.box(df, x='月', y='最高气温_数值', title='月度最高气温分布')\n",
    "fig.update_layout(\n",
    "    xaxis_title='月份',\n",
    "    yaxis_title='温度(℃)'\n",
    ")\n",
    "fig.show()\n",
    "\n",
    "# 2.3 日温差分析\n",
    "fig = px.box(df, x='月', y='日温差', title='月度日温差分布')\n",
    "fig.update_layout(\n",
    "    xaxis_title='月份',\n",
    "    yaxis_title='温差(℃)'\n",
    ")\n",
    "fig.show()"
   ]
  },
  {
   "cell_type": "markdown",
   "metadata": {},
   "source": [
    "## 3. 天气状况分析"
   ]
  },
  {
   "cell_type": "code",
   "execution_count": null,
   "metadata": {},
   "source": [
    "# 3.1 天气类型统计\n",
    "weather_counts = df['白天天气'].value_counts()\n",
    "fig = px.bar(x=weather_counts.index, y=weather_counts.values, title='白天天气类型分布')\n",
    "fig.update_layout(\n",
    "    xaxis_title='天气类型',\n",
    "    yaxis_title='频次',\n",
    "    xaxis_tickangle=45\n",
    ")\n",
    "fig.show()\n",
    "\n",
    "# 3.2 白天/夜间天气对比\n",
    "weather_compare = pd.crosstab(df['白天天气'], df['夜间天气'])\n",
    "fig = px.imshow(weather_compare,\n",
    "                title='白天-夜间天气转换频次',\n",
    "                aspect='auto')\n",
    "fig.show()\n",
    "\n",
    "# 3.3 季节性天气分布\n",
    "seasonal_weather = pd.crosstab(df['季节'], df['白天天气'], normalize='index')\n",
    "fig = px.bar(seasonal_weather,\n",
    "             title='各季节天气类型分布',\n",
    "             barmode='stack')\n",
    "fig.update_layout(\n",
    "    xaxis_title='季节',\n",
    "    yaxis_title='比例'\n",
    ")\n",
    "fig.show()"
   ]
  },
  {
   "cell_type": "markdown",
   "metadata": {},
   "source": [
    "## 4. 风力分析"
   ]
  },
  {
   "cell_type": "code",
   "execution_count": null,
   "metadata": {},
   "source": [
    "# 4.1 风向分布\n",
    "wind_dir_counts = df['白天风向'].value_counts()\n",
    "fig = px.pie(values=wind_dir_counts.values,\n",
    "             names=wind_dir_counts.index,\n",
    "             title='风向分布')\n",
    "fig.show()\n",
    "\n",
    "# 4.2 风力等级分布\n",
    "fig = px.histogram(df, x='白天风力等级',\n",
    "                  nbins=20,\n",
    "                  title='风力等级分布')\n",
    "fig.update_layout(\n",
    "    xaxis_title='风力等级',\n",
    "    yaxis_title='频次'\n",
    ")\n",
    "fig.show()\n",
    "\n",
    "# 4.3 风力与温度关系\n",
    "fig = px.scatter(df,\n",
    "                x='最高气温_数值',\n",
    "                y='白天风力等级',\n",
    "                color='季节',\n",
    "                title='温度与风力关系')\n",
    "fig.update_layout(\n",
    "    xaxis_title='温度(℃)',\n",
    "    yaxis_title='风力等级'\n",
    ")\n",
    "fig.show()"
   ]
  },
  {
   "cell_type": "markdown",
   "metadata": {},
   "source": [
    "## 5. 综合分析"
   ]
  },
  {
   "cell_type": "code",
   "execution_count": null,
   "metadata": {},
   "source": [
    "# 5.1 温度-天气-风力关系\n",
    "fig = px.scatter(df,\n",
    "                x='最高气温_数值',\n",
    "                y='白天风力等级',\n",
    "                color='白天天气',\n",
    "                size='日温差',\n",
    "                title='温度-天气-风力综合关系')\n",
    "fig.update_layout(\n",
    "    xaxis_title='温度(℃)',\n",
    "    yaxis_title='风力等级'\n",
    ")\n",
    "fig.show()\n",
    "\n",
    "# 5.2 季节性分析\n",
    "seasonal_stats = df.groupby('季节').agg({\n",
    "    '最高气温_数值': 'mean',\n",
    "    '最低气温_数值': 'mean',\n",
    "    '日温差': 'mean',\n",
    "    '白天风力等级': 'mean'\n",
    "}).round(2)\n",
    "\n",
    "fig = px.bar(seasonal_stats,\n",
    "             title='季节性特征对比',\n",
    "             barmode='group')\n",
    "fig.show()"
   ]
  }
 ],
 "metadata": {
  "kernelspec": {
   "display_name": "Python 3",
   "language": "python",
   "name": "python3"
  },
  "language_info": {
   "codemirror_mode": {
    "name": "ipython",
    "version": 3
   },
   "file_extension": ".py",
   "mimetype": "text/x-python",
   "name": "python",
   "nbconvert_exporter": "python",
   "pygments_lexer": "ipython3",
   "version": "3.8.0"
  }
 },
 "nbformat": 4,
 "nbformat_minor": 4
}

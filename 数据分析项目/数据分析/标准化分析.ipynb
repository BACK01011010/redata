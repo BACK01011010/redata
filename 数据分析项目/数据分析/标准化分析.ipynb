{
 "cells": [
  {
   "cell_type": "markdown",
   "metadata": {},
   "source": [
    "# 兰州天气数据标准化分析\n",
    "\n",
    "通过标准化处理，我们可以：\n",
    "1. 消除不同量纲的影响\n",
    "2. 更好地比较不同特征之间的关系\n",
    "3. 发现数据的异常模式"
   ]
  },
  {
   "cell_type": "code",
   "execution_count": 2,
   "metadata": {},
   "outputs": [],
   "source": [
    "import pandas as pd\n",
    "import numpy as np\n",
    "from sklearn.preprocessing import StandardScaler, MinMaxScaler\n",
    "from pyecharts import options as opts\n",
    "from pyecharts.charts import Line, Scatter, HeatMap, Grid\n",
    "from pyecharts.globals import ThemeType\n",
    "import re\n",
    "\n",
    "# 设置随机种子\n",
    "np.random.seed(42)"
   ]
  },
  {
   "cell_type": "code",
   "execution_count": 6,
   "metadata": {},
   "outputs": [],
   "source": [
    "# 数据预处理\n",
    "def extract_temperature(temp_str):\n",
    "    return int(temp_str.replace('℃', ''))\n",
    "\n",
    "def extract_wind_force(wind_str):\n",
    "    match = re.search(r'(\\d+)-(\\d+)级', wind_str)\n",
    "    if match:\n",
    "        return (int(match.group(1)) + int(match.group(2))) / 2\n",
    "    return np.nan\n",
    "\n",
    "# 读取数据\n",
    "df = pd.read_excel('../数据集/lanzhou_weather_data.xlsx')\n",
    "\n",
    "# 处理日期\n",
    "df['日期'] = pd.to_datetime(df['日期'], format='%Y年%m月%d日')\n",
    "df['年'] = df['日期'].dt.year\n",
    "df['月'] = df['日期'].dt.month\n",
    "df['季节'] = pd.cut(df['月'], bins=[0,3,6,9,12], labels=['春季','夏季','秋季','冬季'])\n",
    "\n",
    "# 处理温度和风力\n",
    "df['最高气温_数值'] = df['最高气温'].apply(extract_temperature)\n",
    "df['最低气温_数值'] = df['最低气温'].apply(extract_temperature)\n",
    "df['日温差'] = df['最高气温_数值'] - df['最低气温_数值']\n",
    "df['白天风力等级'] = df['白天风力'].apply(extract_wind_force)\n",
    "df['夜间风力等级'] = df['夜间风力'].apply(extract_wind_force)"
   ]
  },
  {
   "cell_type": "markdown",
   "metadata": {},
   "source": [
    "## 1. Z-score标准化分析"
   ]
  },
  {
   "cell_type": "code",
   "execution_count": 37,
   "metadata": {
    "scrolled": true
   },
   "outputs": [
    {
     "name": "stdout",
     "output_type": "stream",
     "text": [
      "标准化后的统计信息：\n",
      "       最高气温_数值_标准化  最低气温_数值_标准化   日温差_标准化  白天风力等级_标准化  夜间风力等级_标准化\n",
      "count     2197.000     2197.000  2197.000    2193.000    2193.000\n",
      "mean        -0.000        0.000     0.000       0.000       0.000\n",
      "std          1.000        1.000     1.000       1.000       1.000\n",
      "min         -2.396       -2.210    -3.079      -0.457      -0.455\n",
      "25%         -0.892       -0.993    -0.777      -0.457      -0.455\n",
      "50%          0.048        0.123     0.086      -0.457      -0.455\n",
      "75%          0.894        0.934     0.661       0.623       0.652\n",
      "max          1.928        1.948     3.539       6.024       6.185\n"
     ]
    },
    {
     "data": {
      "text/plain": [
       "'E:\\\\jupyterNotebook\\\\redata\\\\数据分析项目\\\\数据分析\\\\可视化图表\\\\Z-score标准化分析.html'"
      ]
     },
     "execution_count": 37,
     "metadata": {},
     "output_type": "execute_result"
    }
   ],
   "source": [
    "# 选择需要标准化的数值特征\n",
    "numeric_features = ['最高气温_数值', '最低气温_数值', '日温差', '白天风力等级', '夜间风力等级']\n",
    "\n",
    "# 使用StandardScaler进行Z-score标准化\n",
    "scaler = StandardScaler()\n",
    "df_scaled = pd.DataFrame(\n",
    "    scaler.fit_transform(df[numeric_features]),\n",
    "    columns=[f\"{col}_标准化\" for col in numeric_features],\n",
    "    index=df.index\n",
    ")\n",
    "\n",
    "# 计算标准化后的统计信息\n",
    "print(\"标准化后的统计信息：\")\n",
    "print(df_scaled.describe().round(3))\n",
    "\n",
    "# 可视化标准化结果\n",
    "def plot_standardized_features():\n",
    "    line = Line(init_opts=opts.InitOpts(theme=ThemeType.MACARONS))\n",
    "    line.add_xaxis(df['日期'].dt.strftime('%Y-%m').unique().tolist())\n",
    "    \n",
    "    for col in df_scaled.columns:\n",
    "        monthly_mean = df_scaled.groupby(df['日期'].dt.strftime('%Y-%m'))[col].mean()\n",
    "        line.add_yaxis(\n",
    "            col,\n",
    "            monthly_mean.round(3).tolist(),\n",
    "            is_symbol_show=False\n",
    "        )\n",
    "    \n",
    "    line.set_global_opts(\n",
    "        title_opts=opts.TitleOpts(title=\"标准化后的特征变化趋势\"),\n",
    "        tooltip_opts=opts.TooltipOpts(trigger=\"axis\"),\n",
    "        datazoom_opts=[opts.DataZoomOpts()],\n",
    "        yaxis_opts=opts.AxisOpts(name=\"标准化值\")\n",
    "    )\n",
    "    return line.render('可视化图表/Z-score标准化分析.html')\n",
    "\n",
    "plot_standardized_features()"
   ]
  },
  {
   "cell_type": "markdown",
   "metadata": {},
   "source": [
    "## 2. 归一化分析（Min-Max标准化）"
   ]
  },
  {
   "cell_type": "code",
   "execution_count": 43,
   "metadata": {},
   "outputs": [
    {
     "data": {
      "text/plain": [
       "'E:\\\\jupyterNotebook\\\\redata\\\\数据分析项目\\\\数据分析\\\\可视化图表\\\\Min_Max标准化分析.html'"
      ]
     },
     "execution_count": 43,
     "metadata": {},
     "output_type": "execute_result"
    }
   ],
   "source": [
    "# 使用MinMaxScaler进行归一化\n",
    "minmax_scaler = MinMaxScaler()\n",
    "df_normalized = pd.DataFrame(\n",
    "    minmax_scaler.fit_transform(df[numeric_features]),\n",
    "    columns=[f\"{col}_归一化\" for col in numeric_features],\n",
    "    index=df.index\n",
    ")\n",
    "\n",
    "# 可视化归一化结果\n",
    "def plot_normalized_features():\n",
    "    line = Line(init_opts=opts.InitOpts(theme=ThemeType.LIGHT))\n",
    "    line.add_xaxis(df['日期'].dt.strftime('%Y-%m').unique().tolist())\n",
    "    \n",
    "    for col in df_normalized.columns:\n",
    "        monthly_mean = df_normalized.groupby(df['日期'].dt.strftime('%Y-%m'))[col].mean()\n",
    "        line.add_yaxis(\n",
    "            col,\n",
    "            monthly_mean.round(3).tolist(),\n",
    "            is_symbol_show=False\n",
    "        )\n",
    "    \n",
    "    line.set_global_opts(\n",
    "        title_opts=opts.TitleOpts(title=\"归一化后的特征变化趋势\"),\n",
    "        tooltip_opts=opts.TooltipOpts(trigger=\"axis\"),\n",
    "        datazoom_opts=[opts.DataZoomOpts()],\n",
    "        yaxis_opts=opts.AxisOpts(name=\"归一化值\")\n",
    "    )\n",
    "    return line.render('可视化图表/Min_Max标准化分析.html')\n",
    "\n",
    "plot_normalized_features()"
   ]
  },
  {
   "cell_type": "markdown",
   "metadata": {},
   "source": [
    "## 3. 特征相关性分析"
   ]
  },
  {
   "cell_type": "code",
   "execution_count": 45,
   "metadata": {},
   "outputs": [
    {
     "data": {
      "text/plain": [
       "'E:\\\\jupyterNotebook\\\\redata\\\\数据分析项目\\\\数据分析\\\\可视化图表\\\\特征相关性分析.html'"
      ]
     },
     "execution_count": 45,
     "metadata": {},
     "output_type": "execute_result"
    }
   ],
   "source": [
    "# 计算标准化后特征之间的相关性\n",
    "correlation_matrix = df_scaled.corr()\n",
    "\n",
    "# 可视化相关性热力图\n",
    "def plot_correlation_heatmap():\n",
    "    # 准备数据\n",
    "    features = correlation_matrix.index.tolist()\n",
    "    data = [\n",
    "        [i, j, correlation_matrix.iloc[i, j]]\n",
    "        for i in range(len(features))\n",
    "        for j in range(len(features))\n",
    "    ]\n",
    "    \n",
    "    heatmap = HeatMap(init_opts=opts.InitOpts(theme=ThemeType.WESTEROS))\n",
    "    heatmap.add_xaxis(features)\n",
    "    heatmap.add_yaxis(\n",
    "        \"相关性\",\n",
    "        features,\n",
    "        data,\n",
    "        label_opts=opts.LabelOpts(is_show=True, formatter=\"{c}\")\n",
    "    )\n",
    "    \n",
    "    heatmap.set_global_opts(\n",
    "        title_opts=opts.TitleOpts(title=\"标准化特征相关性热力图\"),\n",
    "        visualmap_opts=opts.VisualMapOpts(\n",
    "            min_=-1,\n",
    "            max_=1,\n",
    "            is_calculable=True,\n",
    "            orient=\"horizontal\",\n",
    "            pos_left=\"center\"\n",
    "        )\n",
    "    )\n",
    "    return heatmap.render('可视化图表/特征相关性分析.html')\n",
    "\n",
    "plot_correlation_heatmap()"
   ]
  },
  {
   "cell_type": "markdown",
   "metadata": {},
   "source": [
    "## 4. 异常值检测"
   ]
  },
  {
   "cell_type": "code",
   "execution_count": 47,
   "metadata": {},
   "outputs": [
    {
     "data": {
      "text/plain": [
       "'E:\\\\jupyterNotebook\\\\redata\\\\数据分析项目\\\\数据分析\\\\可视化图表\\\\异常值检测分析.html'"
      ]
     },
     "execution_count": 47,
     "metadata": {},
     "output_type": "execute_result"
    }
   ],
   "source": [
    "# 使用Z-score方法检测异常值\n",
    "def detect_outliers(df_scaled, threshold=3):\n",
    "    outliers = {}\n",
    "    for col in df_scaled.columns:\n",
    "        # 找出超过threshold个标准差的值\n",
    "        outliers[col] = df_scaled[abs(df_scaled[col]) > threshold].index.tolist()\n",
    "    return outliers\n",
    "\n",
    "outliers = detect_outliers(df_scaled)\n",
    "\n",
    "# 可视化异常值\n",
    "def plot_outliers():\n",
    "    scatter = Scatter(init_opts=opts.InitOpts(theme=ThemeType.ROMANTIC))\n",
    "    \n",
    "    # 选择最高气温和最低气温进行展示\n",
    "    x_data = df_scaled['最高气温_数值_标准化'].tolist()\n",
    "    y_data = df_scaled['最低气温_数值_标准化'].tolist()\n",
    "    \n",
    "    # 标记正常值\n",
    "    normal_indices = set(range(len(x_data))) - set(outliers['最高气温_数值_标准化']) - set(outliers['最低气温_数值_标准化'])\n",
    "    scatter.add_xaxis([x_data[i] for i in normal_indices])\n",
    "    scatter.add_yaxis(\n",
    "        \"正常值\",\n",
    "        [y_data[i] for i in normal_indices],\n",
    "        symbol_size=10\n",
    "    )\n",
    "    \n",
    "    # 标记异常值\n",
    "    outlier_indices = set(outliers['最高气温_数值_标准化']) | set(outliers['最低气温_数值_标准化'])\n",
    "    if outlier_indices:\n",
    "        scatter.add_xaxis([x_data[i] for i in outlier_indices])\n",
    "        scatter.add_yaxis(\n",
    "            \"异常值\",\n",
    "            [y_data[i] for i in outlier_indices],\n",
    "            symbol_size=20,\n",
    "            itemstyle_opts=opts.ItemStyleOpts(color=\"red\")\n",
    "        )\n",
    "    \n",
    "    scatter.set_global_opts(\n",
    "        title_opts=opts.TitleOpts(title=\"气温异常值检测\"),\n",
    "        xaxis_opts=opts.AxisOpts(name=\"标准化最高气温\"),\n",
    "        yaxis_opts=opts.AxisOpts(name=\"标准化最低气温\")\n",
    "    )\n",
    "    return scatter.render('可视化图表/异常值检测分析.html')\n",
    "\n",
    "plot_outliers()"
   ]
  },
  {
   "cell_type": "markdown",
   "metadata": {},
   "source": [
    "## 5. 标准化分析结论\n",
    "\n",
    "通过标准化分析，我们可以得出以下结论：\n",
    "\n",
    "1. 数据分布特征：\n",
    "   - Z-score标准化后的数据均值为0，标准差为1\n",
    "   - 归一化后的数据都被压缩到[0,1]区间\n",
    "\n",
    "2. 特征相关性：\n",
    "   - [根据相关性热力图填写具体发现]\n",
    "   - [填写重要的相关性模式]\n",
    "\n",
    "3. 异常值发现：\n",
    "   - [填写发现的异常值情况]\n",
    "   - [分析异常值的可能原因]\n",
    "\n",
    "4. 数据质量建议：\n",
    "   - [填写数据质量相关建议]\n",
    "   - [填写数据处理建议]"
   ]
  },
  {
   "cell_type": "code",
   "execution_count": null,
   "metadata": {},
   "outputs": [],
   "source": []
  },
  {
   "cell_type": "code",
   "execution_count": null,
   "metadata": {},
   "outputs": [],
   "source": []
  },
  {
   "cell_type": "code",
   "execution_count": null,
   "metadata": {},
   "outputs": [],
   "source": []
  },
  {
   "cell_type": "code",
   "execution_count": null,
   "metadata": {},
   "outputs": [],
   "source": []
  },
  {
   "cell_type": "code",
   "execution_count": null,
   "metadata": {},
   "outputs": [],
   "source": []
  },
  {
   "cell_type": "code",
   "execution_count": null,
   "metadata": {},
   "outputs": [],
   "source": []
  },
  {
   "cell_type": "code",
   "execution_count": null,
   "metadata": {},
   "outputs": [],
   "source": []
  },
  {
   "cell_type": "code",
   "execution_count": null,
   "metadata": {},
   "outputs": [],
   "source": []
  },
  {
   "cell_type": "code",
   "execution_count": null,
   "metadata": {},
   "outputs": [],
   "source": []
  }
 ],
 "metadata": {
  "kernelspec": {
   "display_name": "Python [conda env:base] *",
   "language": "python",
   "name": "conda-base-py"
  },
  "language_info": {
   "codemirror_mode": {
    "name": "ipython",
    "version": 3
   },
   "file_extension": ".py",
   "mimetype": "text/x-python",
   "name": "python",
   "nbconvert_exporter": "python",
   "pygments_lexer": "ipython3",
   "version": "3.12.7"
  }
 },
 "nbformat": 4,
 "nbformat_minor": 4
}

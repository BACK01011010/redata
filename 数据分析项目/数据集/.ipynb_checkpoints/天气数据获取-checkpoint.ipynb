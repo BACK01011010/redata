{
 "cells": [
  {
   "cell_type": "code",
   "execution_count": 11,
   "id": "42a098bd-f58c-4298-8c12-140bf9171307",
   "metadata": {},
   "outputs": [],
   "source": [
    "import requests\n",
    "import pandas as pd\n",
    "from lxml import etree\n",
    "import time\n",
    "from tqdm import tqdm"
   ]
  },
  {
   "cell_type": "code",
   "execution_count": 9,
   "id": "ddb7d039-371c-4f12-9cd2-75fea04964f6",
   "metadata": {},
   "outputs": [],
   "source": [
    "#北京市2019-2024年天气数据\n",
    "city = 'beijing'  \n",
    "start_year = 2019  \n",
    "end_year = 2024   "
   ]
  },
  {
   "cell_type": "code",
   "execution_count": 7,
   "id": "410b5215-3cbb-4f14-b99e-57c2bfbc218e",
   "metadata": {},
   "outputs": [],
   "source": [
    "def get_weather_data(city, start_year, end_year):\n",
    "    base_url = 'http://www.tianqihoubao.com/lishi/'\n",
    "    headers = {\n",
    "        'user-agent':'Mozilla/5.0 (Windows NT 10.0; Win64; x64) AppleWebKit/537.36 (KHTML, like Gecko) Chrome/131.0.0.0 Safari/537.36'\n",
    "    }\n",
    "\n",
    "    all_data = []\n",
    "\n",
    "    # 遍历年份和月份\n",
    "    for year in tqdm(range(start_year, end_year + 1), desc='爬取进度'):\n",
    "        for month in range(1, 13):\n",
    "            url = f\"{base_url}{city}/month/{year}{month:02d}.html\"\n",
    "\n",
    "            try:\n",
    "                response = requests.get(url, headers=headers, timeout=10)\n",
    "                if response.status_code == 200:\n",
    "                    # 使用xpath解析数据\n",
    "                    html = etree.HTML(response.text)\n",
    "\n",
    "                    # 获取所有数据行\n",
    "                    rows = html.xpath('//table[@class=\"b\"]/tr')[1:]  # 跳过表头\n",
    "\n",
    "                    for row in rows:\n",
    "                        # 提取每行数据\n",
    "                        date = row.xpath('./td[1]/text()')[0].strip()\n",
    "\n",
    "                        # 天气状况（白天/夜间）\n",
    "                        weather = row.xpath('./td[2]/text()')[0].strip()\n",
    "                        weather_parts = weather.split('/')\n",
    "                        day_weather = weather_parts[0].strip() if len(weather_parts) > 0 else ''\n",
    "                        night_weather = weather_parts[1].strip() if len(weather_parts) > 1 else ''\n",
    "\n",
    "                        # 气温（最高/最低）\n",
    "                        temperature = row.xpath('./td[3]/text()')[0].strip()\n",
    "                        temp_parts = temperature.split('/')\n",
    "                        high_temp = temp_parts[0].strip() if len(temp_parts) > 0 else ''\n",
    "                        low_temp = temp_parts[1].strip() if len(temp_parts) > 1 else ''\n",
    "\n",
    "                        # 风力（白天/夜间）\n",
    "                        wind = row.xpath('./td[4]/text()')[0].strip()\n",
    "                        wind_parts = wind.split('/')\n",
    "                        day_wind = wind_parts[0].strip() if len(wind_parts) > 0 else ''\n",
    "                        night_wind = wind_parts[1].strip() if len(wind_parts) > 1 else ''\n",
    "\n",
    "                        all_data.append({\n",
    "                            '日期': date,\n",
    "                            '白天天气': day_weather,\n",
    "                            '夜间天气': night_weather,\n",
    "                            '最高气温': high_temp,\n",
    "                            '最低气温': low_temp,\n",
    "                            '白天风力': day_wind,\n",
    "                            '夜间风力': night_wind\n",
    "                        })\n",
    "\n",
    "                # 添加延时，避免请求过快\n",
    "                time.sleep(1)\n",
    "\n",
    "            except Exception as e:\n",
    "                print(f\"获取数据失败: {url}, 错误: {str(e)}\")\n",
    "                continue\n",
    "\n",
    "    # 转换为DataFrame\n",
    "    df = pd.DataFrame(all_data)\n",
    "\n",
    "    # 保存数据\n",
    "    output_file = f\"{city}_weather_data.xlsx\"\n",
    "    df.to_excel(output_file, index=False)\n",
    "    print(f\"数据已保存到: {output_file}\")\n",
    "\n",
    "    return df"
   ]
  },
  {
   "cell_type": "code",
   "execution_count": null,
   "id": "6571e651-4d89-49ef-bdc7-3eba03b41b9a",
   "metadata": {},
   "outputs": [],
   "source": []
  },
  {
   "cell_type": "code",
   "execution_count": null,
   "id": "15c59aba-838b-4f3e-aa14-c7385c8a4a0f",
   "metadata": {},
   "outputs": [],
   "source": []
  },
  {
   "cell_type": "code",
   "execution_count": null,
   "id": "2fe4eceb-8528-4fc9-bd27-7b9285899e2d",
   "metadata": {},
   "outputs": [],
   "source": []
  },
  {
   "cell_type": "code",
   "execution_count": null,
   "id": "3dd5fe01-87b8-485f-8326-9de1c2e3cff2",
   "metadata": {},
   "outputs": [],
   "source": []
  },
  {
   "cell_type": "code",
   "execution_count": null,
   "id": "cf47cf4f-a0fd-4490-ac86-1c01e1d86a63",
   "metadata": {},
   "outputs": [],
   "source": []
  },
  {
   "cell_type": "code",
   "execution_count": null,
   "id": "35c73f8e-864f-4e8d-af4a-e65e4346f3b1",
   "metadata": {},
   "outputs": [],
   "source": []
  },
  {
   "cell_type": "code",
   "execution_count": null,
   "id": "06db7299-6978-41ab-add2-fd40c2da92ed",
   "metadata": {},
   "outputs": [],
   "source": []
  },
  {
   "cell_type": "code",
   "execution_count": null,
   "id": "1b458a5d-181a-41a6-a795-160c9e2ad8e5",
   "metadata": {},
   "outputs": [],
   "source": []
  },
  {
   "cell_type": "code",
   "execution_count": null,
   "id": "15c28906-c052-4173-837c-8c3b70b867a3",
   "metadata": {},
   "outputs": [],
   "source": []
  },
  {
   "cell_type": "code",
   "execution_count": null,
   "id": "6ba99c66-eb1b-4afd-91d3-32a1f41665f5",
   "metadata": {},
   "outputs": [],
   "source": []
  },
  {
   "cell_type": "code",
   "execution_count": null,
   "id": "75586c59-bc70-465c-b4a4-5316e0c54de6",
   "metadata": {},
   "outputs": [],
   "source": []
  },
  {
   "cell_type": "code",
   "execution_count": null,
   "id": "17f739e4-f4f3-4e52-bd5c-f56b60703eaa",
   "metadata": {},
   "outputs": [],
   "source": []
  },
  {
   "cell_type": "code",
   "execution_count": null,
   "id": "0c98c3df-a276-4e8b-b26c-dcba765a8f0c",
   "metadata": {},
   "outputs": [],
   "source": []
  },
  {
   "cell_type": "code",
   "execution_count": null,
   "id": "bfaafc00-c213-4a75-bd4d-3822700ada27",
   "metadata": {},
   "outputs": [],
   "source": []
  },
  {
   "cell_type": "code",
   "execution_count": null,
   "id": "ad306fe3-aa2e-416f-bd7c-1d86135b1059",
   "metadata": {},
   "outputs": [],
   "source": []
  },
  {
   "cell_type": "code",
   "execution_count": null,
   "id": "06436353-7f16-42f5-98b1-a95d26852c38",
   "metadata": {},
   "outputs": [],
   "source": []
  },
  {
   "cell_type": "code",
   "execution_count": null,
   "id": "a7031f1a-0748-421d-ada0-999f400efe0d",
   "metadata": {},
   "outputs": [],
   "source": []
  },
  {
   "cell_type": "code",
   "execution_count": null,
   "id": "503314c2-217d-4e7a-837f-052a858d5434",
   "metadata": {},
   "outputs": [],
   "source": []
  }
 ],
 "metadata": {
  "kernelspec": {
   "display_name": "Python [conda env:base] *",
   "language": "python",
   "name": "conda-base-py"
  },
  "language_info": {
   "codemirror_mode": {
    "name": "ipython",
    "version": 3
   },
   "file_extension": ".py",
   "mimetype": "text/x-python",
   "name": "python",
   "nbconvert_exporter": "python",
   "pygments_lexer": "ipython3",
   "version": "3.12.7"
  }
 },
 "nbformat": 4,
 "nbformat_minor": 5
}

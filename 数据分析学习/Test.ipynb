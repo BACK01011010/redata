{
 "cells": [
  {
   "cell_type": "code",
   "execution_count": 1,
   "id": "99f97bd8-098c-4f15-b616-be1fceca7d36",
   "metadata": {},
   "outputs": [],
   "source": [
    "#numpy库"
   ]
  },
  {
   "cell_type": "code",
   "execution_count": 2,
   "id": "57d4b253-0423-4467-8265-90f5641c5f74",
   "metadata": {},
   "outputs": [],
   "source": [
    "import numpy as np"
   ]
  },
  {
   "cell_type": "code",
   "execution_count": 9,
   "id": "e08673e3-3fac-491f-b208-e6fc789f8bb9",
   "metadata": {},
   "outputs": [],
   "source": [
    "#help(np)"
   ]
  },
  {
   "cell_type": "code",
   "execution_count": 15,
   "id": "0648f9d7-7560-4bd7-97fc-4e3456da7c37",
   "metadata": {},
   "outputs": [
    {
     "data": {
      "text/plain": [
       "-0.1442993632320876"
      ]
     },
     "execution_count": 15,
     "metadata": {},
     "output_type": "execute_result"
    }
   ],
   "source": [
    "#生成一个0-1均匀产生的随机数组\n",
    "np.random.rand()\n",
    "# 生成一个以0为中心，一个标准的正态分布随机教\n",
    "np.random.randn()\n",
    "#生成的是一个离散分布的随机整数值\n",
    "# np.random.randint()"
   ]
  },
  {
   "cell_type": "code",
   "execution_count": 17,
   "id": "abdae4c5-5add-4bfa-b7f4-bb87fcff816a",
   "metadata": {},
   "outputs": [],
   "source": [
    "# 练习:\n",
    "#自动生成一个0-100分，正态分布在80分段的,全班50人的数组"
   ]
  },
  {
   "cell_type": "code",
   "execution_count": 19,
   "id": "6ded1330-0a47-43f0-a303-8912f54a9c7a",
   "metadata": {},
   "outputs": [
    {
     "data": {
      "text/plain": [
       "array([-1.80194879,  0.41343424, -0.47880552, -0.21639416,  0.3507364 ,\n",
       "       -0.47425987, -1.054196  , -0.72309876, -0.04745704, -0.78160773,\n",
       "        0.43852198,  0.65473312,  0.63409107, -0.07793803, -0.09162615,\n",
       "       -0.5464826 , -1.56338701, -0.05497795,  0.27956684,  1.7853007 ,\n",
       "       -0.60139812, -0.73976445, -0.24094486,  0.73839104,  0.01586359,\n",
       "        0.23406549,  0.62755854, -0.83253901,  0.29964693, -1.08823959,\n",
       "        0.08265867,  0.75313016, -1.72435307, -0.15159314, -1.27045193,\n",
       "        0.16829686,  0.24922219, -0.56645616, -1.37279489,  1.12887187,\n",
       "        0.04323032, -0.87313163,  0.79954403, -1.07019878,  0.21918292,\n",
       "        2.03257577,  1.22359756, -0.40852894, -0.56681713, -0.80888575,\n",
       "       -1.55992828, -0.18211647, -1.55456534, -1.58480911, -1.56164736,\n",
       "        0.55269886, -0.34056844,  0.5512693 , -0.36160409,  1.43042826,\n",
       "       -1.12831998,  0.52485954,  0.80597801,  0.09705456,  0.49979079,\n",
       "       -0.90926471,  0.92729575,  0.88769466, -0.42199814,  0.73051841,\n",
       "       -1.7666565 , -1.66491158,  0.19866214, -1.97327832,  0.08306034,\n",
       "       -1.38115104, -0.73004579, -0.69554921, -0.04845764, -1.70895468])"
      ]
     },
     "execution_count": 19,
     "metadata": {},
     "output_type": "execute_result"
    }
   ],
   "source": [
    "np.random.randn(80)"
   ]
  },
  {
   "cell_type": "code",
   "execution_count": 21,
   "id": "78899265-b9b0-4786-8bb8-912682624b8a",
   "metadata": {},
   "outputs": [
    {
     "data": {
      "text/plain": [
       "array([[16, 87, 74, 26, 94],\n",
       "       [ 0, 58, 33, 20, 40],\n",
       "       [ 3, 69, 83, 44, 69],\n",
       "       [20,  5,  5, 63, 30],\n",
       "       [77, 71, 43, 51, 30],\n",
       "       [ 4, 63, 29, 89, 13],\n",
       "       [31, 56, 88, 58, 59],\n",
       "       [27, 48, 56, 29, 64],\n",
       "       [24, 14, 26, 69,  6],\n",
       "       [ 4, 66, 78, 31, 24]])"
      ]
     },
     "execution_count": 21,
     "metadata": {},
     "output_type": "execute_result"
    }
   ],
   "source": [
    "np.random.randn(80)\n",
    "np.random.randint(0,100,size=(10,5))"
   ]
  },
  {
   "cell_type": "code",
   "execution_count": null,
   "id": "9e475c36-d1e9-4dd3-b3c6-7020d2f9a14d",
   "metadata": {},
   "outputs": [],
   "source": []
  }
 ],
 "metadata": {
  "kernelspec": {
   "display_name": "Python [conda env:base] *",
   "language": "python",
   "name": "conda-base-py"
  },
  "language_info": {
   "codemirror_mode": {
    "name": "ipython",
    "version": 3
   },
   "file_extension": ".py",
   "mimetype": "text/x-python",
   "name": "python",
   "nbconvert_exporter": "python",
   "pygments_lexer": "ipython3",
   "version": "3.12.7"
  }
 },
 "nbformat": 4,
 "nbformat_minor": 5
}

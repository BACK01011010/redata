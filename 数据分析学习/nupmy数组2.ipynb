{
 "cells": [
  {
   "cell_type": "code",
   "execution_count": null,
   "id": "7f6e5d63-a751-4344-8328-b9ee67d6cc47",
   "metadata": {},
   "outputs": [],
   "source": [
    "缺失值检测"
   ]
  },
  {
   "cell_type": "code",
   "execution_count": null,
   "id": "049394bc-71ce-45d4-aeb2-1d9ba0021717",
   "metadata": {},
   "outputs": [],
   "source": [
    "# np.isnan(a): 检测是否为空值"
   ]
  },
  {
   "cell_type": "code",
   "execution_count": 3,
   "id": "cfa92632-5f9c-4aac-85d7-78b41d987e70",
   "metadata": {},
   "outputs": [],
   "source": [
    "import numpy as np"
   ]
  },
  {
   "cell_type": "code",
   "execution_count": 13,
   "id": "f5424f33-0932-4917-8119-15e97133dbff",
   "metadata": {},
   "outputs": [
    {
     "data": {
      "text/plain": [
       "array([[ 1.,  2.,  3.,  4.],\n",
       "       [ 3., nan,  5.,  6.],\n",
       "       [ 4.,  5.,  6., nan]])"
      ]
     },
     "execution_count": 13,
     "metadata": {},
     "output_type": "execute_result"
    }
   ],
   "source": [
    "c = np.array([[1,2,3,4],[3,np.NAN,5,6],[4,5,6,np.NAN]])\n",
    "c"
   ]
  },
  {
   "cell_type": "code",
   "execution_count": 9,
   "id": "e67fe1b4-8873-4892-8de8-26d626c1f26d",
   "metadata": {},
   "outputs": [
    {
     "data": {
      "text/plain": [
       "array([[False, False, False, False],\n",
       "       [False, False, False, False],\n",
       "       [False, False, False,  True]])"
      ]
     },
     "execution_count": 9,
     "metadata": {},
     "output_type": "execute_result"
    }
   ],
   "source": [
    "np.isnan(c)"
   ]
  },
  {
   "cell_type": "code",
   "execution_count": 15,
   "id": "6bdfb172-ceca-4774-b19c-bc5234fab639",
   "metadata": {},
   "outputs": [
    {
     "data": {
      "text/plain": [
       "(array([1, 2], dtype=int64), array([1, 3], dtype=int64))"
      ]
     },
     "execution_count": 15,
     "metadata": {},
     "output_type": "execute_result"
    }
   ],
   "source": [
    "np.where(np.isnan(c))"
   ]
  },
  {
   "cell_type": "code",
   "execution_count": 17,
   "id": "e60374b5-bb36-4993-a485-c3966aada81e",
   "metadata": {},
   "outputs": [
    {
     "data": {
      "text/plain": [
       "array([[1, 1],\n",
       "       [2, 3]], dtype=int64)"
      ]
     },
     "execution_count": 17,
     "metadata": {},
     "output_type": "execute_result"
    }
   ],
   "source": [
    "np.argwhere(np.isnan(c))"
   ]
  },
  {
   "cell_type": "code",
   "execution_count": null,
   "id": "e0f4717b-b511-4e91-b2a7-1469f29815ad",
   "metadata": {},
   "outputs": [],
   "source": []
  }
 ],
 "metadata": {
  "kernelspec": {
   "display_name": "Python [conda env:base] *",
   "language": "python",
   "name": "conda-base-py"
  },
  "language_info": {
   "codemirror_mode": {
    "name": "ipython",
    "version": 3
   },
   "file_extension": ".py",
   "mimetype": "text/x-python",
   "name": "python",
   "nbconvert_exporter": "python",
   "pygments_lexer": "ipython3",
   "version": "3.12.7"
  }
 },
 "nbformat": 4,
 "nbformat_minor": 5
}

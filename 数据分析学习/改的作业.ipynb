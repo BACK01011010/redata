{
 "cells": [
  {
   "cell_type": "code",
   "execution_count": 13,
   "id": "05edbe85",
   "metadata": {},
   "outputs": [
    {
     "data": {
      "text/plain": [
       "'C:\\\\Users\\\\XiaoMi\\\\数据分析内容\\\\华北科技学院\\\\可视化图表\\\\箱型图2.html'"
      ]
     },
     "execution_count": 13,
     "metadata": {},
     "output_type": "execute_result"
    }
   ],
   "source": [
    "from pyecharts import options as opts\n",
    "from pyecharts.charts import Boxplot\n",
    "import pandas as pd\n",
    "\n",
    "data = pd.read_excel(r'data/私营企业相关信息.xlsx')\n",
    "data = data.dropna()\n",
    "\n",
    "v1 = data['指标'].iloc[1:3].tolist()\n",
    "import numpy as np\n",
    "y = data.loc[1].values[1:].tolist()\n",
    "y2 =data.loc[2].values[1:].tolist()\n",
    "v2 = [np.array(y).astype(int).tolist()]\n",
    "v3 = [np.array(y2).astype(int).tolist()]\n",
    "v3\n",
    "\n",
    "c= (\n",
    "    Boxplot()\n",
    "    .add_xaxis(v1)\n",
    "    .add_yaxis('',Boxplot.prepare_data(v2))\n",
    "    .add_yaxis('',Boxplot.prepare_data(v3))\n",
    "    .set_global_opts()\n",
    ")\n",
    "c.render('可视化图表/箱型图2.html')"
   ]
  },
  {
   "cell_type": "code",
   "execution_count": null,
   "id": "55b8980c",
   "metadata": {},
   "outputs": [],
   "source": [
    "# 数据类型也很关键。即使数据格式正确，但如果数据类型不符合要求，也会导致展示问题。\n",
    "# 图表可能要求数据是数值类型（如整数或浮点数），如果其中夹杂了字符串或其他非数值类型的数据，就可能出错"
   ]
  },
  {
   "cell_type": "code",
   "execution_count": null,
   "id": "a8a1f8a6",
   "metadata": {},
   "outputs": [],
   "source": [
    "# Boxplot 属性  和方法的使用。\n",
    "# 然后是列表套用问题"
   ]
  },
  {
   "cell_type": "code",
   "execution_count": null,
   "id": "170ae934",
   "metadata": {},
   "outputs": [],
   "source": []
  },
  {
   "cell_type": "code",
   "execution_count": null,
   "id": "ec27d41f",
   "metadata": {},
   "outputs": [],
   "source": []
  },
  {
   "cell_type": "code",
   "execution_count": null,
   "id": "86702239",
   "metadata": {},
   "outputs": [],
   "source": []
  },
  {
   "cell_type": "code",
   "execution_count": null,
   "id": "ff481295",
   "metadata": {},
   "outputs": [],
   "source": []
  },
  {
   "cell_type": "code",
   "execution_count": null,
   "id": "1475f6be",
   "metadata": {},
   "outputs": [],
   "source": []
  },
  {
   "cell_type": "code",
   "execution_count": null,
   "id": "038a074a",
   "metadata": {},
   "outputs": [],
   "source": []
  }
 ],
 "metadata": {
  "kernelspec": {
   "display_name": "Python [conda env:base] *",
   "language": "python",
   "name": "conda-base-py"
  },
  "language_info": {
   "codemirror_mode": {
    "name": "ipython",
    "version": 3
   },
   "file_extension": ".py",
   "mimetype": "text/x-python",
   "name": "python",
   "nbconvert_exporter": "python",
   "pygments_lexer": "ipython3",
   "version": "3.12.7"
  }
 },
 "nbformat": 4,
 "nbformat_minor": 5
}

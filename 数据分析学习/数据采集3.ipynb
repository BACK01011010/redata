{
 "cells": [
  {
   "cell_type": "code",
   "execution_count": 1,
   "id": "63a83298",
   "metadata": {},
   "outputs": [],
   "source": [
    "# 贴吧爬取代码"
   ]
  },
  {
   "cell_type": "code",
   "execution_count": 2,
   "id": "e6b88236",
   "metadata": {},
   "outputs": [],
   "source": [
    "import pandas as pd\n",
    "import time\n",
    "import random\n",
    "import requests\n",
    "from lxml import etree"
   ]
  },
  {
   "cell_type": "code",
   "execution_count": 3,
   "id": "5bd35efb",
   "metadata": {},
   "outputs": [],
   "source": [
    "def main(page):\n",
    "#     url = 'https://tieba.baidu.com/f?kw=%E9%98%B2%E7%81%BE%E7%A7%91%E6%8A%80%E5%AD%A6%E9%99%A2&ie=utf-8'\n",
    "    url = 'https://tieba.baidu.com/f?kw=燕京理工学院吧&ie=utf-8&pn={}'\n",
    "    headers = {\n",
    "        'user-agent':\n",
    "        'Mozilla/5.0 (Windows NT 10.0; Win64; x64) AppleWebKit/537.36 (KHTML, like Gecko) Chrome/119.0.0.0 Safari/537.36'\n",
    "    }\n",
    "    print(url.format(page*50))\n",
    "    resp = requests.get(url.format(page*50),headers=headers)\n",
    "    html =resp.text\n",
    "    respons = etree.HTML(html)\n",
    "    print(respons)\n",
    "    #     获取主题\n",
    "#     titles = respons.xpath('//*[@id=\"thread_list\"]/li/ul/li/div/div/div/div/a/text()')\n",
    "    titles = respons.xpath('//*[@id=\"thread_list\"]/li/div/div/div/div/a/text()')\n",
    "    #获取 其他内容\n",
    "    print(titles)"
   ]
  },
  {
   "cell_type": "code",
   "execution_count": 4,
   "id": "03e1d551",
   "metadata": {},
   "outputs": [
    {
     "name": "stdout",
     "output_type": "stream",
     "text": [
      "https://tieba.baidu.com/f?kw=燕京理工学院吧&ie=utf-8&pn=50\n",
      "<Element html at 0x219b61d5ac0>\n",
      "[]\n",
      "https://tieba.baidu.com/f?kw=燕京理工学院吧&ie=utf-8&pn=100\n",
      "<Element html at 0x219b3893780>\n",
      "[]\n",
      "https://tieba.baidu.com/f?kw=燕京理工学院吧&ie=utf-8&pn=150\n",
      "<Element html at 0x219b3892f40>\n",
      "[]\n",
      "https://tieba.baidu.com/f?kw=燕京理工学院吧&ie=utf-8&pn=200\n",
      "<Element html at 0x219b3ff3a40>\n",
      "[]\n",
      "https://tieba.baidu.com/f?kw=燕京理工学院吧&ie=utf-8&pn=250\n",
      "<Element html at 0x219b6171e40>\n",
      "[]\n"
     ]
    }
   ],
   "source": [
    "if __name__ == '__main__':\n",
    "    for page in range(1,6):\n",
    "        main(page)\n",
    "        time.sleep(random.randint(1,3))\n",
    "    "
   ]
  },
  {
   "cell_type": "code",
   "execution_count": null,
   "id": "3050ff72",
   "metadata": {},
   "outputs": [],
   "source": []
  },
  {
   "cell_type": "code",
   "execution_count": null,
   "id": "7f581765",
   "metadata": {},
   "outputs": [],
   "source": []
  },
  {
   "cell_type": "code",
   "execution_count": null,
   "id": "ba971b50",
   "metadata": {},
   "outputs": [],
   "source": []
  },
  {
   "cell_type": "code",
   "execution_count": null,
   "id": "d0a98f14",
   "metadata": {},
   "outputs": [],
   "source": []
  },
  {
   "cell_type": "code",
   "execution_count": null,
   "id": "99b45b95",
   "metadata": {},
   "outputs": [],
   "source": [
    "import csv\n",
    "import requests\n",
    "import re\n",
    "import time\n",
    " \n",
    "def main(page):\n",
    "    url = f'https://tieba.baidu.com/p/7882177660?pn={page}'\n",
    "    headers = {\n",
    "        'User-Agent': 'Mozilla/5.0 (Windows NT 10.0; Win64; x64) AppleWebKit/537.36 (KHTML, like Gecko) Chrome/106.0.0.0 Safari/537.36'\n",
    "    }\n",
    "    resp = requests.get(url,headers=headers)\n",
    "    html = resp.text\n",
    "    # 评论内容\n",
    "    comments = re.findall('style=\"display:;\">                    (.*?)</div>',html)\n",
    "    # 评论用户\n",
    "    users = re.findall('class=\"p_author_name j_user_card\" href=\".*?\" target=\"_blank\">(.*?)</a>',html)\n",
    "    # 评论时间\n",
    "    comment_times = re.findall('楼</span><span class=\"tail-info\">(.*?)</span><div',html)\n",
    "    for u,c,t in zip(users,comments,comment_times):\n",
    "        # 筛选数据,过滤掉异常数据\n",
    "        if 'img' in c or 'div' in c or len(u)>50:\n",
    "            continue\n",
    "        csvwriter.writerow((u,t,c))\n",
    "        print(u,t,c)\n",
    "    print(f'第{page}页爬取完毕')\n",
    " \n",
    "if __name__ == '__main__':\n",
    "    with open('01.csv','a',encoding='utf-8')as f:\n",
    "        csvwriter = csv.writer(f)\n",
    "        csvwriter.writerow(('评论用户','评论时间','评论内容'))\n",
    "        for page in range(1,8):  # 爬取前7页的内容\n",
    "            main(page)\n",
    "            time.sleep(2)"
   ]
  },
  {
   "cell_type": "code",
   "execution_count": null,
   "id": "ba7e8c41",
   "metadata": {},
   "outputs": [],
   "source": []
  },
  {
   "cell_type": "code",
   "execution_count": null,
   "id": "41d43dc9",
   "metadata": {},
   "outputs": [],
   "source": []
  },
  {
   "cell_type": "code",
   "execution_count": null,
   "id": "d5b416e1",
   "metadata": {},
   "outputs": [],
   "source": []
  },
  {
   "cell_type": "code",
   "execution_count": null,
   "id": "dc843909",
   "metadata": {},
   "outputs": [],
   "source": []
  },
  {
   "cell_type": "code",
   "execution_count": null,
   "id": "9a5940e9",
   "metadata": {},
   "outputs": [],
   "source": []
  },
  {
   "cell_type": "code",
   "execution_count": null,
   "id": "f7469881",
   "metadata": {},
   "outputs": [],
   "source": []
  },
  {
   "cell_type": "code",
   "execution_count": null,
   "id": "f97693e6-255d-4c35-a21d-a042eca6f9c5",
   "metadata": {},
   "outputs": [],
   "source": []
  },
  {
   "cell_type": "code",
   "execution_count": null,
   "id": "b6a69e8d-35ee-487d-b085-bfd4d12f5234",
   "metadata": {},
   "outputs": [],
   "source": []
  },
  {
   "cell_type": "code",
   "execution_count": null,
   "id": "06edeaae-910b-4992-82d2-a7a0e3c6c1f0",
   "metadata": {},
   "outputs": [],
   "source": []
  },
  {
   "cell_type": "code",
   "execution_count": null,
   "id": "a9f276e9-938e-4530-85c6-7627e4b1a57e",
   "metadata": {},
   "outputs": [],
   "source": []
  },
  {
   "cell_type": "code",
   "execution_count": null,
   "id": "022d72e3-446a-46e3-ab0c-627d414fd724",
   "metadata": {},
   "outputs": [],
   "source": []
  },
  {
   "cell_type": "code",
   "execution_count": null,
   "id": "9540d857-f6e0-45b3-96d9-9671a7784440",
   "metadata": {},
   "outputs": [],
   "source": []
  },
  {
   "cell_type": "code",
   "execution_count": null,
   "id": "6c0553d5-5428-4477-ae4d-4d5c5833e3b2",
   "metadata": {},
   "outputs": [],
   "source": []
  }
 ],
 "metadata": {
  "kernelspec": {
   "display_name": "Python [conda env:base] *",
   "language": "python",
   "name": "conda-base-py"
  },
  "language_info": {
   "codemirror_mode": {
    "name": "ipython",
    "version": 3
   },
   "file_extension": ".py",
   "mimetype": "text/x-python",
   "name": "python",
   "nbconvert_exporter": "python",
   "pygments_lexer": "ipython3",
   "version": "3.12.7"
  }
 },
 "nbformat": 4,
 "nbformat_minor": 5
}

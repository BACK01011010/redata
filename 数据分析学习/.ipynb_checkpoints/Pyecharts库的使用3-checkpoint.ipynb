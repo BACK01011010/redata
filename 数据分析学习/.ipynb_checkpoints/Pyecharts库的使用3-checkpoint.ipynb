{
 "cells": [
  {
   "cell_type": "code",
   "execution_count": 3,
   "id": "a9f79d57-a920-4f10-bb83-edded42bf5a6",
   "metadata": {},
   "outputs": [],
   "source": [
    "from pyecharts.charts import Map\n",
    "from pyecharts import options as opts\n",
    "from pyecharts.faker import Faker"
   ]
  },
  {
   "cell_type": "code",
   "execution_count": 7,
   "id": "39fbcc17-2da5-4d2f-8976-c62d16a5ce8d",
   "metadata": {},
   "outputs": [
    {
     "data": {
      "text/plain": [
       "'E:\\\\jupyterNotebook\\\\数据分析\\\\可视化图表\\\\map1.html'"
      ]
     },
     "execution_count": 7,
     "metadata": {},
     "output_type": "execute_result"
    }
   ],
   "source": [
    "c = (\n",
    "    Map()\n",
    "    .add('',[list(z) for z in zip(Faker.provinces,Faker.values())])\n",
    ")\n",
    "c.render('可视化图表/map1.html')"
   ]
  },
  {
   "cell_type": "code",
   "execution_count": 11,
   "id": "087ee54a-fd73-4b8a-ab23-09616d81f0c4",
   "metadata": {},
   "outputs": [
    {
     "data": {
      "text/plain": [
       "'E:\\\\jupyterNotebook\\\\数据分析\\\\可视化图表\\\\map2.html'"
      ]
     },
     "execution_count": 11,
     "metadata": {},
     "output_type": "execute_result"
    }
   ],
   "source": [
    "c = (\n",
    "    Map()\n",
    "    .add('',[list(z) for z in zip(Faker.provinces,Faker.values())])\n",
    "    .set_global_opts(\n",
    "        title_opts=opts.TitleOpts(title='中国地图'),\n",
    "        visualmap_opts=opts.VisualMapOpts(max_=200),\n",
    "    )\n",
    ")\n",
    "c.render('可视化图表/map2.html')"
   ]
  },
  {
   "cell_type": "code",
   "execution_count": 13,
   "id": "56240e08-726c-472d-bcae-86bb59cb1dde",
   "metadata": {},
   "outputs": [],
   "source": [
    "provinces = ['广东省','北京市','香港特别行政区','新疆维吾尔自治区','重庆市']\n",
    "values = [100,90,20,50,40]"
   ]
  },
  {
   "cell_type": "code",
   "execution_count": 15,
   "id": "58217bfc-eadf-49d0-a453-1eafa1ee6eb9",
   "metadata": {},
   "outputs": [
    {
     "data": {
      "text/plain": [
       "'E:\\\\jupyterNotebook\\\\数据分析\\\\可视化图表\\\\map3.html'"
      ]
     },
     "execution_count": 15,
     "metadata": {},
     "output_type": "execute_result"
    }
   ],
   "source": [
    "c = (\n",
    "    Map()\n",
    "    .add('',[list(z) for z in zip(provinces,values)])\n",
    "    .set_global_opts(\n",
    "        title_opts=opts.TitleOpts(title='中国地图'),\n",
    "        visualmap_opts=opts.VisualMapOpts(max_=200),\n",
    "    )\n",
    ")\n",
    "c.render('可视化图表/map3.html')"
   ]
  },
  {
   "cell_type": "code",
   "execution_count": 19,
   "id": "3ee1d9b4-09ad-4c14-929b-1c6ec7986e4f",
   "metadata": {},
   "outputs": [
    {
     "data": {
      "text/plain": [
       "'E:\\\\jupyterNotebook\\\\数据分析\\\\可视化图表\\\\map4.html'"
      ]
     },
     "execution_count": 19,
     "metadata": {},
     "output_type": "execute_result"
    }
   ],
   "source": [
    "c = (\n",
    "    Map()\n",
    "    .add('',[list(z) for z in zip(provinces,values)],\n",
    "    'china-cities'\n",
    "        )\n",
    "    .set_global_opts(\n",
    "        title_opts=opts.TitleOpts(title='中国地图'),\n",
    "        visualmap_opts=opts.VisualMapOpts(max_=200),\n",
    "    )\n",
    ")\n",
    "c.render('可视化图表/map4.html')"
   ]
  },
  {
   "cell_type": "code",
   "execution_count": null,
   "id": "c3251336-7885-4779-a345-189782a4673a",
   "metadata": {},
   "outputs": [],
   "source": [
    "# 练习1：\n",
    "# 写入地级市，以及地级市对应的数据，在map展示出热力图部分"
   ]
  },
  {
   "cell_type": "code",
   "execution_count": 21,
   "id": "f847b9f0-2013-4e4f-811e-c3e12ad9bd9b",
   "metadata": {},
   "outputs": [],
   "source": [
    "from pyecharts.charts import BMap\n",
    "from pyecharts import options as opts\n",
    "from pyecharts.faker import Faker"
   ]
  },
  {
   "cell_type": "code",
   "execution_count": 23,
   "id": "1dfc4bad-4045-4b22-a982-e273be1c9636",
   "metadata": {},
   "outputs": [
    {
     "data": {
      "text/plain": [
       "'E:\\\\jupyterNotebook\\\\数据分析\\\\可视化图表\\\\百度地图1.html'"
      ]
     },
     "execution_count": 23,
     "metadata": {},
     "output_type": "execute_result"
    }
   ],
   "source": [
    "c = (\n",
    "    BMap()\n",
    "    .add_schema(baidu_ak='FAKE_AK',center=[116.04038336111482,39.32780801570621])\n",
    "    .add('', [list(z) for z in zip(Faker.provinces,Faker.values())])\n",
    "    .set_global_opts(\n",
    "        title_opts= opts.TitleOpts(title='中国地图'),\n",
    "    )\n",
    ")\n",
    "c.render('可视化图表/百度地图1.html')"
   ]
  },
  {
   "cell_type": "code",
   "execution_count": 25,
   "id": "c55fbb1d-33c5-4066-8f13-f6f9483c52f9",
   "metadata": {},
   "outputs": [
    {
     "data": {
      "text/plain": [
       "'E:\\\\jupyterNotebook\\\\数据分析\\\\可视化图表\\\\百度地图2.html'"
      ]
     },
     "execution_count": 25,
     "metadata": {},
     "output_type": "execute_result"
    }
   ],
   "source": [
    "c = (\n",
    "    BMap()\n",
    "    .add_schema(baidu_ak='FAKE_AK',center=[130.04038336111482,30.32780801570621])\n",
    "    .add('bmap', \n",
    "         [list(z) for z in zip(Faker.provinces,Faker.values())],\n",
    "         type_ = 'heatmap'\n",
    "        )\n",
    "    .set_global_opts(\n",
    "        title_opts= opts.TitleOpts(title='中国地图'),\n",
    "        visualmap_opts=opts.VisualMapOpts(max_=100)\n",
    "    )\n",
    "    \n",
    ")\n",
    "c.render('可视化图表/百度地图2.html')"
   ]
  },
  {
   "cell_type": "code",
   "execution_count": null,
   "id": "753a55e8-e4d4-45e4-b2ca-bba0d0062f87",
   "metadata": {},
   "outputs": [],
   "source": [
    "# 练习2：\n",
    "# 使用百度地图，展示五个地级市对应的数据，用热力图展示。\n",
    "# 标注pm2.5的污染程度。\n",
    "\n",
    "# data =[['保定',9],['唐山',99],['邯郸',80]]"
   ]
  },
  {
   "cell_type": "code",
   "execution_count": null,
   "id": "ec815599-e43b-4ed6-8737-a93c77926998",
   "metadata": {},
   "outputs": [],
   "source": []
  },
  {
   "cell_type": "code",
   "execution_count": null,
   "id": "dddec631-51ff-4dff-8b0a-71e1c356b282",
   "metadata": {},
   "outputs": [],
   "source": []
  },
  {
   "cell_type": "code",
   "execution_count": 27,
   "id": "f3b4ed48-e229-4a03-8028-f1ba65def8df",
   "metadata": {},
   "outputs": [
    {
     "ename": "ImportError",
     "evalue": "cannot import name 'AMap' from 'pyecharts.charts' (D:\\anaconda3\\Lib\\site-packages\\pyecharts\\charts\\__init__.py)",
     "output_type": "error",
     "traceback": [
      "\u001b[1;31m---------------------------------------------------------------------------\u001b[0m",
      "\u001b[1;31mImportError\u001b[0m                               Traceback (most recent call last)",
      "Cell \u001b[1;32mIn[27], line 8\u001b[0m\n\u001b[0;32m      1\u001b[0m \u001b[38;5;66;03m# 高德地图\u001b[39;00m\n\u001b[0;32m      2\u001b[0m \u001b[38;5;66;03m# AMap\u001b[39;00m\n\u001b[0;32m      3\u001b[0m \u001b[38;5;66;03m# 在使用高德地图时候，需要使用pyecharts 2.0.7 以上的版本才能使用\u001b[39;00m\n\u001b[0;32m      4\u001b[0m \u001b[38;5;66;03m# baidu_ak 部分  修改为 amap_ak 其他内容一样。\u001b[39;00m\n\u001b[0;32m      7\u001b[0m \u001b[38;5;28;01mfrom\u001b[39;00m \u001b[38;5;21;01mpyecharts\u001b[39;00m \u001b[38;5;28;01mimport\u001b[39;00m options \u001b[38;5;28;01mas\u001b[39;00m otps\n\u001b[1;32m----> 8\u001b[0m \u001b[38;5;28;01mfrom\u001b[39;00m \u001b[38;5;21;01mpyecharts\u001b[39;00m\u001b[38;5;21;01m.\u001b[39;00m\u001b[38;5;21;01mcharts\u001b[39;00m \u001b[38;5;28;01mimport\u001b[39;00m AMap\n\u001b[0;32m      9\u001b[0m \u001b[38;5;28;01mfrom\u001b[39;00m \u001b[38;5;21;01mpyecharts\u001b[39;00m\u001b[38;5;21;01m.\u001b[39;00m\u001b[38;5;21;01mfaker\u001b[39;00m \u001b[38;5;28;01mimport\u001b[39;00m Faker\n",
      "\u001b[1;31mImportError\u001b[0m: cannot import name 'AMap' from 'pyecharts.charts' (D:\\anaconda3\\Lib\\site-packages\\pyecharts\\charts\\__init__.py)"
     ]
    }
   ],
   "source": [
    "# 高德地图\n",
    "# AMap\n",
    "# 在使用高德地图时候，需要使用pyecharts 2.0.7 以上的版本才能使用\n",
    "# baidu_ak 部分  修改为 amap_ak 其他内容一样。\n",
    "\n",
    "\n",
    "from pyecharts import options as otps\n",
    "from pyecharts.charts import AMap\n",
    "from pyecharts.faker import Faker"
   ]
  },
  {
   "cell_type": "code",
   "execution_count": 29,
   "id": "814354ad-c1fb-475f-a479-62d3b99e24bf",
   "metadata": {},
   "outputs": [
    {
     "name": "stdout",
     "output_type": "stream",
     "text": [
      "2.0.6\n"
     ]
    }
   ],
   "source": [
    "import pyecharts\n",
    "print(pyecharts.__version__)"
   ]
  },
  {
   "cell_type": "code",
   "execution_count": null,
   "id": "397dc6ae-b36e-4b4e-ace6-f5809bec9dc0",
   "metadata": {},
   "outputs": [],
   "source": []
  },
  {
   "cell_type": "code",
   "execution_count": null,
   "id": "247f3ac2-720c-48b1-b876-0dc564aac89c",
   "metadata": {},
   "outputs": [],
   "source": [
    "# 地理坐标Geo"
   ]
  },
  {
   "cell_type": "code",
   "execution_count": 31,
   "id": "376fe5d1-a192-444a-9ed3-796f0e9a1e1d",
   "metadata": {},
   "outputs": [],
   "source": [
    "from pyecharts import options as otps\n",
    "from pyecharts.charts import Geo\n",
    "from pyecharts.faker import Faker"
   ]
  },
  {
   "cell_type": "code",
   "execution_count": 33,
   "id": "ff5df5ba-78af-44d3-909b-a234f86aba48",
   "metadata": {},
   "outputs": [
    {
     "data": {
      "text/plain": [
       "'E:\\\\jupyterNotebook\\\\数据分析\\\\可视化图表\\\\Geo地标1.html'"
      ]
     },
     "execution_count": 33,
     "metadata": {},
     "output_type": "execute_result"
    }
   ],
   "source": [
    "c = (\n",
    "    Geo()\n",
    "    .add_schema(maptype='china')\n",
    "    .add('',[list(z) for z in zip(Faker.provinces,Faker.values())])\n",
    "    .set_global_opts(\n",
    "        visualmap_opts=opts.VisualMapOpts(),\n",
    "    )\n",
    ")\n",
    "c.render('可视化图表/Geo地标1.html')"
   ]
  },
  {
   "cell_type": "code",
   "execution_count": 35,
   "id": "d87445af-bf26-4d28-b645-00927b330f69",
   "metadata": {},
   "outputs": [
    {
     "data": {
      "text/plain": [
       "'E:\\\\jupyterNotebook\\\\数据分析\\\\可视化图表\\\\Geo地标2.html'"
      ]
     },
     "execution_count": 35,
     "metadata": {},
     "output_type": "execute_result"
    }
   ],
   "source": [
    "from pyecharts.globals import ChartType\n",
    "c = (\n",
    "    Geo()\n",
    "    .add_schema(maptype='china')\n",
    "    .add('',[list(z) for z in zip(Faker.provinces,Faker.values())],\n",
    "        type_=ChartType.HEATMAP,\n",
    "        )\n",
    "    .set_global_opts(\n",
    "        visualmap_opts=opts.VisualMapOpts(),\n",
    "    )\n",
    ")\n",
    "c.render('可视化图表/Geo地标2.html')"
   ]
  },
  {
   "cell_type": "code",
   "execution_count": null,
   "id": "daf4820c-b048-494c-99fa-662b980200d7",
   "metadata": {},
   "outputs": [],
   "source": []
  },
  {
   "cell_type": "code",
   "execution_count": 37,
   "id": "7a014b7f-43be-47d6-9699-fc7be318810d",
   "metadata": {},
   "outputs": [],
   "source": [
    "from pyecharts.charts import Geo\n",
    "from pyecharts import options as opts\n",
    "from pyecharts.globals import ChartType,SymbolType"
   ]
  },
  {
   "cell_type": "code",
   "execution_count": 39,
   "id": "14ec3fd2-ea16-488d-be92-cc42ef1cb190",
   "metadata": {},
   "outputs": [
    {
     "data": {
      "text/plain": [
       "'E:\\\\jupyterNotebook\\\\数据分析\\\\可视化图表\\\\Geo地标3.html'"
      ]
     },
     "execution_count": 39,
     "metadata": {},
     "output_type": "execute_result"
    }
   ],
   "source": [
    "c = (\n",
    "    Geo()\n",
    "    .add_schema(\n",
    "        maptype=\n",
    "        'china',\n",
    "        itemstyle_opts=opts.ItemStyleOpts(color= \"#999\",border_color='#111')\n",
    "    )\n",
    "    .add(\n",
    "        '',\n",
    "        [('广州',100),('北京',200),('上海',120),('宁夏',80),('云南',70)]\n",
    "        \n",
    "    )\n",
    "    .add(\n",
    "        '线段',\n",
    "        [('北京','广州'),('北京','上海'),('北京','宁夏'),('北京','云南')],\n",
    "        type_=ChartType.LINES,\n",
    "        effect_opts=opts.EffectOpts(\n",
    "            symbol=SymbolType.ARROW,symbol_size=5,color='red'\n",
    "        )\n",
    "    )\n",
    "    .set_global_opts()\n",
    ")\n",
    "c.render('可视化图表/Geo地标3.html')"
   ]
  },
  {
   "cell_type": "code",
   "execution_count": null,
   "id": "e8bbcb5f-0999-413b-86e4-6c72316f0a8c",
   "metadata": {},
   "outputs": [],
   "source": []
  },
  {
   "cell_type": "code",
   "execution_count": null,
   "id": "735fb773-64ed-44a0-97ad-33bda63cbc48",
   "metadata": {},
   "outputs": [],
   "source": []
  },
  {
   "cell_type": "code",
   "execution_count": null,
   "id": "151cc3e5-a6a9-4c6b-81b1-f708cc5eb030",
   "metadata": {},
   "outputs": [],
   "source": []
  },
  {
   "cell_type": "code",
   "execution_count": null,
   "id": "a0ea69f3-801e-4e87-b261-b5ebdec76e9a",
   "metadata": {},
   "outputs": [],
   "source": []
  },
  {
   "cell_type": "code",
   "execution_count": null,
   "id": "d3896cc5-64e6-467a-a7c9-718bfd6c3878",
   "metadata": {},
   "outputs": [],
   "source": []
  },
  {
   "cell_type": "code",
   "execution_count": null,
   "id": "9b57f78e-7541-453a-96df-45fab7e029e7",
   "metadata": {},
   "outputs": [],
   "source": []
  },
  {
   "cell_type": "code",
   "execution_count": null,
   "id": "41ef306e-576d-44db-af1c-c472d4284ec6",
   "metadata": {},
   "outputs": [],
   "source": []
  },
  {
   "cell_type": "code",
   "execution_count": null,
   "id": "edf109cf-ff32-475a-812a-e0ade4c7225e",
   "metadata": {},
   "outputs": [],
   "source": []
  },
  {
   "cell_type": "code",
   "execution_count": null,
   "id": "c5335ef4-5fa4-43a3-aca1-d579499dd393",
   "metadata": {},
   "outputs": [],
   "source": []
  }
 ],
 "metadata": {
  "kernelspec": {
   "display_name": "Python [conda env:base] *",
   "language": "python",
   "name": "conda-base-py"
  },
  "language_info": {
   "codemirror_mode": {
    "name": "ipython",
    "version": 3
   },
   "file_extension": ".py",
   "mimetype": "text/x-python",
   "name": "python",
   "nbconvert_exporter": "python",
   "pygments_lexer": "ipython3",
   "version": "3.12.7"
  }
 },
 "nbformat": 4,
 "nbformat_minor": 5
}

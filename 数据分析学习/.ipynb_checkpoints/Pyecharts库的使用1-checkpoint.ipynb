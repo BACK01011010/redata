{
 "cells": [
  {
   "cell_type": "code",
   "execution_count": 1,
   "id": "a9e3d2b5-6c68-4f75-b238-d7393a686ece",
   "metadata": {},
   "outputs": [],
   "source": [
    "import pyecharts"
   ]
  },
  {
   "cell_type": "code",
   "execution_count": 3,
   "id": "eb0b17d5-6069-40b7-bbfb-2b61b8d23d88",
   "metadata": {},
   "outputs": [
    {
     "name": "stdout",
     "output_type": "stream",
     "text": [
      "Help on package pyecharts:\n",
      "\n",
      "NAME\n",
      "    pyecharts\n",
      "\n",
      "PACKAGE CONTENTS\n",
      "    _version\n",
      "    charts (package)\n",
      "    commons (package)\n",
      "    components (package)\n",
      "    datasets (package)\n",
      "    exceptions\n",
      "    faker\n",
      "    globals\n",
      "    options (package)\n",
      "    render (package)\n",
      "    scaffold (package)\n",
      "    types\n",
      "\n",
      "VERSION\n",
      "    2.0.6\n",
      "\n",
      "AUTHOR\n",
      "    chenjiandongx\n",
      "\n",
      "FILE\n",
      "    d:\\anaconda3\\lib\\site-packages\\pyecharts\\__init__.py\n",
      "\n",
      "\n"
     ]
    }
   ],
   "source": [
    "help(pyecharts)"
   ]
  },
  {
   "cell_type": "code",
   "execution_count": null,
   "id": "563daf6c-b3ec-4c12-b0e4-1e39c0479547",
   "metadata": {},
   "outputs": [],
   "source": [
    "# 柱状图"
   ]
  },
  {
   "cell_type": "code",
   "execution_count": 23,
   "id": "ed373929-724b-4263-90da-0f09945b5ede",
   "metadata": {},
   "outputs": [],
   "source": [
    "from pyecharts.charts import Bar\n",
    "from pyecharts import options as opts\n",
    "# 默认自带数据\n",
    "from pyecharts.faker import Faker"
   ]
  },
  {
   "cell_type": "markdown",
   "id": "0bb97a7a-0c3e-42da-a451-00cf1d8e868e",
   "metadata": {},
   "source": [
    "## 柱状图设计"
   ]
  },
  {
   "cell_type": "code",
   "execution_count": 54,
   "id": "6e157d8d-147c-412e-91c9-f3018aab59d5",
   "metadata": {},
   "outputs": [
    {
     "data": {
      "text/plain": [
       "'E:\\\\jupyterNotebook\\\\数据分析\\\\可视化图表\\\\柱状图1.html'"
      ]
     },
     "execution_count": 54,
     "metadata": {},
     "output_type": "execute_result"
    }
   ],
   "source": [
    "c = (\n",
    "    Bar()\n",
    "   .add_xaxis(['苹果','车厘子','香蕉','草莓','葡萄'])\n",
    "   .add_yaxis('商店A水果销量',[115,150,120,130,160])\n",
    "   .add_yaxis('商店B水果销量',[115,150,120,130,160])\n",
    "   .set_global_opts(title_opts=opts.TitleOpts(title='商店水果销售情况表',subtitle='副标题'))\n",
    "   .set_series_opts(\n",
    "        label_opts=opts.LabelOpts(is_show=False),\n",
    "        markline_opts=opts.MarkLineOpts(data=[opts.MarkLineItem(y=120,name='销售预期')]),  # 此处添加逗号\n",
    "        itemstyle_opts={\n",
    "            \"normal\":{\n",
    "                # \"color\":\"#5470C6\",\n",
    "                \"barBorderRadius\": [5, 5, 0, 0]\n",
    "            }\n",
    "        }\n",
    "    )\n",
    ")\n",
    "c.render('可视化图表/柱状图1.html')"
   ]
  },
  {
   "cell_type": "markdown",
   "id": "962a9deb-ca4f-4ecf-8004-fff035da5ea7",
   "metadata": {},
   "source": [
    "## 练习"
   ]
  },
  {
   "cell_type": "code",
   "execution_count": 96,
   "id": "77622da9-8e43-458c-85c0-04093597ccfd",
   "metadata": {},
   "outputs": [],
   "source": [
    "import pandas as pd"
   ]
  },
  {
   "cell_type": "code",
   "execution_count": 98,
   "id": "59b7dda2-6d0d-454e-8213-cb9a3501072f",
   "metadata": {},
   "outputs": [
    {
     "data": {
      "text/html": [
       "<div>\n",
       "<style scoped>\n",
       "    .dataframe tbody tr th:only-of-type {\n",
       "        vertical-align: middle;\n",
       "    }\n",
       "\n",
       "    .dataframe tbody tr th {\n",
       "        vertical-align: top;\n",
       "    }\n",
       "\n",
       "    .dataframe thead th {\n",
       "        text-align: right;\n",
       "    }\n",
       "</style>\n",
       "<table border=\"1\" class=\"dataframe\">\n",
       "  <thead>\n",
       "    <tr style=\"text-align: right;\">\n",
       "      <th></th>\n",
       "      <th>指标</th>\n",
       "      <th>2019年</th>\n",
       "      <th>2018年</th>\n",
       "      <th>2017年</th>\n",
       "      <th>2016年</th>\n",
       "      <th>2015年</th>\n",
       "      <th>2014年</th>\n",
       "    </tr>\n",
       "  </thead>\n",
       "  <tbody>\n",
       "    <tr>\n",
       "      <th>0</th>\n",
       "      <td>私营企业和个体就业人员(万人)</td>\n",
       "      <td>40524</td>\n",
       "      <td>37413</td>\n",
       "      <td>34107</td>\n",
       "      <td>30859</td>\n",
       "      <td>28077</td>\n",
       "      <td>24975</td>\n",
       "    </tr>\n",
       "    <tr>\n",
       "      <th>1</th>\n",
       "      <td>制造业私营企业和个体就业人员(万人)</td>\n",
       "      <td>5907</td>\n",
       "      <td>5776</td>\n",
       "      <td>5662</td>\n",
       "      <td>5425</td>\n",
       "      <td>5236</td>\n",
       "      <td>5074</td>\n",
       "    </tr>\n",
       "    <tr>\n",
       "      <th>2</th>\n",
       "      <td>建筑业私营企业和个体就业人员(万人)</td>\n",
       "      <td>2026</td>\n",
       "      <td>1765</td>\n",
       "      <td>1569</td>\n",
       "      <td>1432</td>\n",
       "      <td>1317</td>\n",
       "      <td>1133</td>\n",
       "    </tr>\n",
       "    <tr>\n",
       "      <th>3</th>\n",
       "      <td>交通运输、仓储和邮政业私营企业和个体就业人员(万人)</td>\n",
       "      <td>1051</td>\n",
       "      <td>964</td>\n",
       "      <td>809</td>\n",
       "      <td>704</td>\n",
       "      <td>650</td>\n",
       "      <td>630</td>\n",
       "    </tr>\n",
       "    <tr>\n",
       "      <th>4</th>\n",
       "      <td>批发和零售业私营企业和个体就业人员(万人)</td>\n",
       "      <td>15390</td>\n",
       "      <td>14495</td>\n",
       "      <td>13266</td>\n",
       "      <td>12252</td>\n",
       "      <td>11277</td>\n",
       "      <td>10132</td>\n",
       "    </tr>\n",
       "    <tr>\n",
       "      <th>5</th>\n",
       "      <td>住宿和餐饮业私营企业和个体就业人员(万人)</td>\n",
       "      <td>3295</td>\n",
       "      <td>2945</td>\n",
       "      <td>2689</td>\n",
       "      <td>2218</td>\n",
       "      <td>1859</td>\n",
       "      <td>1548</td>\n",
       "    </tr>\n",
       "    <tr>\n",
       "      <th>6</th>\n",
       "      <td>租赁和商务服务业私营企业和个体就业人员(万人)</td>\n",
       "      <td>3388</td>\n",
       "      <td>3038</td>\n",
       "      <td>2722</td>\n",
       "      <td>2329</td>\n",
       "      <td>2087</td>\n",
       "      <td>1598</td>\n",
       "    </tr>\n",
       "    <tr>\n",
       "      <th>7</th>\n",
       "      <td>居民服务和其他服务业私营企业和个体就业人员(万人)</td>\n",
       "      <td>2553</td>\n",
       "      <td>2200</td>\n",
       "      <td>2037</td>\n",
       "      <td>1762</td>\n",
       "      <td>1555</td>\n",
       "      <td>1400</td>\n",
       "    </tr>\n",
       "  </tbody>\n",
       "</table>\n",
       "</div>"
      ],
      "text/plain": [
       "                           指标  2019年  2018年  2017年  2016年  2015年  2014年\n",
       "0             私营企业和个体就业人员(万人)  40524  37413  34107  30859  28077  24975\n",
       "1          制造业私营企业和个体就业人员(万人)   5907   5776   5662   5425   5236   5074\n",
       "2          建筑业私营企业和个体就业人员(万人)   2026   1765   1569   1432   1317   1133\n",
       "3  交通运输、仓储和邮政业私营企业和个体就业人员(万人)   1051    964    809    704    650    630\n",
       "4       批发和零售业私营企业和个体就业人员(万人)  15390  14495  13266  12252  11277  10132\n",
       "5       住宿和餐饮业私营企业和个体就业人员(万人)   3295   2945   2689   2218   1859   1548\n",
       "6     租赁和商务服务业私营企业和个体就业人员(万人)   3388   3038   2722   2329   2087   1598\n",
       "7   居民服务和其他服务业私营企业和个体就业人员(万人)   2553   2200   2037   1762   1555   1400"
      ]
     },
     "execution_count": 98,
     "metadata": {},
     "output_type": "execute_result"
    }
   ],
   "source": [
    "data = pd.read_excel('data/私营企业相关信息.xlsx')\n",
    "data"
   ]
  },
  {
   "cell_type": "code",
   "execution_count": 100,
   "id": "0e4071f3-97af-4206-b314-3bd017b88bea",
   "metadata": {},
   "outputs": [],
   "source": [
    "# 练习：\n",
    "# 把这个表格中，私营企业和个体就业人员，2014-2019年的数据 通过柱状图展示出来"
   ]
  },
  {
   "cell_type": "code",
   "execution_count": 132,
   "id": "37bd9786-2daa-48d3-9a0f-6597fd4bc8bb",
   "metadata": {},
   "outputs": [
    {
     "data": {
      "text/plain": [
       "['2019年', '2018年', '2017年', '2016年', '2015年', '2014年']"
      ]
     },
     "execution_count": 132,
     "metadata": {},
     "output_type": "execute_result"
    }
   ],
   "source": [
    "# X轴内容\n",
    "years = data.columns[1:].tolist()\n",
    "years"
   ]
  },
  {
   "cell_type": "code",
   "execution_count": 161,
   "id": "b7eb39d5-bb94-4aff-a8a4-be9b14af0058",
   "metadata": {},
   "outputs": [
    {
     "data": {
      "text/plain": [
       "[15390, 14495, 13266, 12252, 11277, 10132]"
      ]
     },
     "execution_count": 161,
     "metadata": {},
     "output_type": "execute_result"
    }
   ],
   "source": [
    "# Y轴内容\n",
    "val = data.loc[4].values[1:].tolist()\n",
    "val"
   ]
  },
  {
   "cell_type": "code",
   "execution_count": 138,
   "id": "e0b0c39b-e031-487d-8b81-c68447d67ab6",
   "metadata": {},
   "outputs": [
    {
     "data": {
      "text/plain": [
       "'E:\\\\jupyterNotebook\\\\数据分析\\\\data\\\\私营企业相关信息.html'"
      ]
     },
     "execution_count": 138,
     "metadata": {},
     "output_type": "execute_result"
    }
   ],
   "source": [
    "bar = (\n",
    "    Bar()\n",
    "    .add_xaxis(years)\n",
    "    .add_yaxis('私营企业和个体就业人员(万人)',[40524, 37413, 34107, 30859, 28077, 24975])\n",
    "    .set_global_opts(\n",
    "        title_opts=opts.TitleOpts(title='私营企业和个体就业人员就业情况'),\n",
    "        xaxis_opts=opts.AxisOpts(axislabel_opts=opts.LabelOpts(rotate=45))\n",
    "    )\n",
    ")\n",
    "bar.render('data/私营企业相关信息.html')"
   ]
  },
  {
   "cell_type": "code",
   "execution_count": null,
   "id": "f074fdd4-4a97-4396-88d1-df8183369282",
   "metadata": {},
   "outputs": [],
   "source": []
  },
  {
   "cell_type": "markdown",
   "id": "84a3c800-ff89-45d3-8753-1a3fb0ca604b",
   "metadata": {},
   "source": [
    "## 箱型图"
   ]
  },
  {
   "cell_type": "code",
   "execution_count": 140,
   "id": "f3b13cd6-ac79-4f5f-8917-2cbe741d2d19",
   "metadata": {},
   "outputs": [],
   "source": [
    "from pyecharts import options as opts\n",
    "from pyecharts.charts import Boxplot"
   ]
  },
  {
   "cell_type": "code",
   "execution_count": 151,
   "id": "2cbbe8fe-0ba2-424b-b973-24ee638a0b5a",
   "metadata": {},
   "outputs": [],
   "source": [
    "# 导入数据\n",
    "v1 = [\n",
    "    [40524, 37413, 34107, 30859, 28077, 24975],\n",
    "    [5907, 5776, 5662, 5425, 5236, 5074]\n",
    "]\n",
    "v2 = [\n",
    "    [2026, 1765, 1569, 1432, 1317, 1133],\n",
    "    [15390, 14495, 13266, 12252, 11277, 10132]\n",
    "]"
   ]
  },
  {
   "cell_type": "code",
   "execution_count": 159,
   "id": "c419a459-06b7-41f4-9577-204f50977d29",
   "metadata": {},
   "outputs": [
    {
     "data": {
      "text/plain": [
       "'E:\\\\jupyterNotebook\\\\数据分析\\\\可视化图表\\\\箱型图1.html'"
      ]
     },
     "execution_count": 159,
     "metadata": {},
     "output_type": "execute_result"
    }
   ],
   "source": [
    "c = (\n",
    "    Boxplot()\n",
    "    .add_xaxis(['案例1','案例2'])\n",
    "    .add_yaxis('',Boxplot().prepare_data(v1))\n",
    "    .add_yaxis('',Boxplot().prepare_data(v2))\n",
    "    .set_global_opts()\n",
    ")\n",
    "c.render('可视化图表/箱型图1.html')"
   ]
  },
  {
   "cell_type": "code",
   "execution_count": null,
   "id": "49e46f73-2a7e-4266-a4dc-40f9f9f0515b",
   "metadata": {},
   "outputs": [],
   "source": []
  },
  {
   "cell_type": "code",
   "execution_count": null,
   "id": "09937e83-6b6b-40bb-83d1-ed1a239a97fd",
   "metadata": {},
   "outputs": [],
   "source": []
  },
  {
   "cell_type": "code",
   "execution_count": null,
   "id": "1f1e0c6a-3b44-4054-bff7-fabd72555880",
   "metadata": {},
   "outputs": [],
   "source": []
  },
  {
   "cell_type": "code",
   "execution_count": null,
   "id": "02d7d40d-2589-4a6b-9647-47afaad13011",
   "metadata": {},
   "outputs": [],
   "source": []
  },
  {
   "cell_type": "code",
   "execution_count": null,
   "id": "5138814b-6ae9-49f5-859d-874be3e32258",
   "metadata": {},
   "outputs": [],
   "source": []
  },
  {
   "cell_type": "code",
   "execution_count": null,
   "id": "f276b788-212f-4022-8af7-ff02a466a00d",
   "metadata": {},
   "outputs": [],
   "source": []
  },
  {
   "cell_type": "code",
   "execution_count": null,
   "id": "6c76f838-7b57-4069-8f64-9f270949a68d",
   "metadata": {},
   "outputs": [],
   "source": []
  },
  {
   "cell_type": "code",
   "execution_count": null,
   "id": "1e2123d6-d176-45a4-a181-d629749f5061",
   "metadata": {},
   "outputs": [],
   "source": []
  },
  {
   "cell_type": "code",
   "execution_count": null,
   "id": "072f0c64-ca0e-4453-aa63-7d0061c701f5",
   "metadata": {},
   "outputs": [],
   "source": []
  }
 ],
 "metadata": {
  "kernelspec": {
   "display_name": "Python [conda env:base] *",
   "language": "python",
   "name": "conda-base-py"
  },
  "language_info": {
   "codemirror_mode": {
    "name": "ipython",
    "version": 3
   },
   "file_extension": ".py",
   "mimetype": "text/x-python",
   "name": "python",
   "nbconvert_exporter": "python",
   "pygments_lexer": "ipython3",
   "version": "3.12.7"
  }
 },
 "nbformat": 4,
 "nbformat_minor": 5
}

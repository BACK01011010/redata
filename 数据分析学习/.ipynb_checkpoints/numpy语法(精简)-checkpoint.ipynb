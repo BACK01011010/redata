{
 "cells": [
  {
   "cell_type": "markdown",
   "id": "be78685f",
   "metadata": {},
   "source": [
    "# numpy"
   ]
  },
  {
   "cell_type": "code",
   "execution_count": 2,
   "id": "8bc7c8f2",
   "metadata": {},
   "outputs": [],
   "source": [
    "# 对数组执行数学运算与逻辑运算，numpy是非常有用的。\n",
    "# 特别是在对数组与矩阵进行运算时，numpy库提供了大量的有用特征"
   ]
  },
  {
   "cell_type": "code",
   "execution_count": 3,
   "id": "2d781209",
   "metadata": {},
   "outputs": [],
   "source": [
    "import numpy as np"
   ]
  },
  {
   "cell_type": "code",
   "execution_count": 4,
   "id": "a84c1f63",
   "metadata": {},
   "outputs": [
    {
     "data": {
      "text/plain": [
       "array([1, 2, 3, 4, 5])"
      ]
     },
     "execution_count": 4,
     "metadata": {},
     "output_type": "execute_result"
    }
   ],
   "source": [
    "# 创建数组\n",
    "m = [1,2,3,4,5]\n",
    "m2 = np.array(m)\n",
    "m2"
   ]
  },
  {
   "cell_type": "code",
   "execution_count": 5,
   "id": "cfa29a46",
   "metadata": {},
   "outputs": [
    {
     "data": {
      "text/plain": [
       "numpy.ndarray"
      ]
     },
     "execution_count": 5,
     "metadata": {},
     "output_type": "execute_result"
    }
   ],
   "source": [
    "type(m2)"
   ]
  },
  {
   "cell_type": "code",
   "execution_count": 6,
   "id": "218a09f1",
   "metadata": {},
   "outputs": [
    {
     "data": {
      "text/plain": [
       "dtype('int32')"
      ]
     },
     "execution_count": 6,
     "metadata": {},
     "output_type": "execute_result"
    }
   ],
   "source": [
    "m2.dtype"
   ]
  },
  {
   "cell_type": "code",
   "execution_count": 7,
   "id": "9a04487b",
   "metadata": {},
   "outputs": [
    {
     "data": {
      "text/plain": [
       "array([1, 2, 3, 4, 5], dtype=int64)"
      ]
     },
     "execution_count": 7,
     "metadata": {},
     "output_type": "execute_result"
    }
   ],
   "source": [
    "# 指定数据类型\n",
    "m3 = np.array(m,dtype=np.int64)  #指定为浮点类型\n",
    "m3"
   ]
  },
  {
   "cell_type": "code",
   "execution_count": 8,
   "id": "fbb50730",
   "metadata": {},
   "outputs": [
    {
     "data": {
      "text/plain": [
       "dtype('int64')"
      ]
     },
     "execution_count": 8,
     "metadata": {},
     "output_type": "execute_result"
    }
   ],
   "source": [
    "m3.dtype"
   ]
  },
  {
   "cell_type": "code",
   "execution_count": 9,
   "id": "bc379b74",
   "metadata": {},
   "outputs": [],
   "source": [
    "# 创建二维数组"
   ]
  },
  {
   "cell_type": "code",
   "execution_count": 10,
   "id": "2f65f7cb",
   "metadata": {},
   "outputs": [
    {
     "data": {
      "text/plain": [
       "array([[1, 2, 3, 4],\n",
       "       [5, 6, 7, 8],\n",
       "       [3, 4, 5, 6]])"
      ]
     },
     "execution_count": 10,
     "metadata": {},
     "output_type": "execute_result"
    }
   ],
   "source": [
    "m4 = [[1,2,3,4],[5,6,7,8],[3,4,5,6]]\n",
    "m4 = np.array(m4)\n",
    "m4"
   ]
  },
  {
   "cell_type": "code",
   "execution_count": 32,
   "id": "78e7508f",
   "metadata": {},
   "outputs": [
    {
     "ename": "NameError",
     "evalue": "name 'array' is not defined",
     "output_type": "error",
     "traceback": [
      "\u001b[1;31m---------------------------------------------------------------------------\u001b[0m",
      "\u001b[1;31mNameError\u001b[0m                                 Traceback (most recent call last)",
      "Cell \u001b[1;32mIn[32], line 2\u001b[0m\n\u001b[0;32m      1\u001b[0m \u001b[38;5;66;03m# 数组转化为列表\u001b[39;00m\n\u001b[1;32m----> 2\u001b[0m array\u001b[38;5;241m.\u001b[39mtolist()\n",
      "\u001b[1;31mNameError\u001b[0m: name 'array' is not defined"
     ]
    }
   ],
   "source": [
    "# 数组转化为列表\n",
    ".tolist()  "
   ]
  },
  {
   "cell_type": "code",
   "execution_count": null,
   "id": "d1f6feb1",
   "metadata": {},
   "outputs": [],
   "source": [
    "m5 = m4.tolist()\n",
    "m5"
   ]
  },
  {
   "cell_type": "code",
   "execution_count": null,
   "id": "3e8f8ea4",
   "metadata": {},
   "outputs": [],
   "source": [
    "# 查看数组的形状，维度，大小\n",
    "m4"
   ]
  },
  {
   "cell_type": "code",
   "execution_count": null,
   "id": "929586fd",
   "metadata": {},
   "outputs": [],
   "source": [
    "m4.shape"
   ]
  },
  {
   "cell_type": "code",
   "execution_count": null,
   "id": "8d97326b",
   "metadata": {},
   "outputs": [],
   "source": [
    "# 想把二维数组转化为一个两行四列的二维数组\n",
    "m4.shape = (2,6)\n",
    "m4"
   ]
  },
  {
   "cell_type": "code",
   "execution_count": null,
   "id": "d4c5a777",
   "metadata": {},
   "outputs": [],
   "source": [
    "m4.shape = (-1,3)\n",
    "m4"
   ]
  },
  {
   "cell_type": "code",
   "execution_count": null,
   "id": "faaf44d7",
   "metadata": {},
   "outputs": [],
   "source": [
    "m4.shape = (6,-1)\n",
    "m4"
   ]
  },
  {
   "cell_type": "markdown",
   "id": "6f68b470",
   "metadata": {},
   "source": [
    "特殊数组"
   ]
  },
  {
   "cell_type": "code",
   "execution_count": null,
   "id": "7bcf5127",
   "metadata": {},
   "outputs": [],
   "source": [
    "np.full((2,3),8)"
   ]
  },
  {
   "cell_type": "code",
   "execution_count": null,
   "id": "fa437b8a",
   "metadata": {},
   "outputs": [],
   "source": [
    "# 产生单位矩阵\n",
    "a = np.eye(6)\n",
    "a"
   ]
  },
  {
   "cell_type": "code",
   "execution_count": null,
   "id": "ea2b59ad",
   "metadata": {},
   "outputs": [],
   "source": [
    "a.dtype"
   ]
  },
  {
   "cell_type": "code",
   "execution_count": null,
   "id": "ee5eb9f9",
   "metadata": {},
   "outputs": [],
   "source": []
  },
  {
   "cell_type": "markdown",
   "id": "c43c1aaf",
   "metadata": {},
   "source": [
    "随机数组"
   ]
  },
  {
   "cell_type": "code",
   "execution_count": null,
   "id": "587a4f78",
   "metadata": {},
   "outputs": [],
   "source": [
    "# 生成一个0-1均匀产生的随机数组\n",
    "np.random.rand()\n",
    "# 生成一个以0为中心，一个标准的正态分布随机数\n",
    "np.random.randn()\n",
    "# 生成的是一个离散分布的随机整数值\n",
    "np.random.randint()"
   ]
  },
  {
   "cell_type": "code",
   "execution_count": null,
   "id": "359e6a29",
   "metadata": {},
   "outputs": [],
   "source": [
    "a = np.random.rand(5,4)\n",
    "a"
   ]
  },
  {
   "cell_type": "code",
   "execution_count": null,
   "id": "789f5902",
   "metadata": {},
   "outputs": [],
   "source": [
    "np.random.randn(5)"
   ]
  },
  {
   "cell_type": "code",
   "execution_count": null,
   "id": "ec90e328",
   "metadata": {},
   "outputs": [],
   "source": [
    "np.random.randint(1,100,size=(2,3))"
   ]
  },
  {
   "cell_type": "code",
   "execution_count": null,
   "id": "29b77d7f",
   "metadata": {},
   "outputs": [],
   "source": [
    "# 练习:\n",
    "#     自动生成一个0-100分, 正态分布在80分段的,全班50人的 数组"
   ]
  },
  {
   "cell_type": "code",
   "execution_count": null,
   "id": "fb5348fe",
   "metadata": {},
   "outputs": [],
   "source": []
  },
  {
   "cell_type": "code",
   "execution_count": null,
   "id": "a0b065f0",
   "metadata": {},
   "outputs": [],
   "source": [
    "# 测定数组的长度 大小"
   ]
  },
  {
   "cell_type": "code",
   "execution_count": null,
   "id": "4a6ccc23",
   "metadata": {},
   "outputs": [],
   "source": [
    "a = np.random.rand(5,4)\n",
    "a"
   ]
  },
  {
   "cell_type": "code",
   "execution_count": null,
   "id": "c9f3fcf4",
   "metadata": {},
   "outputs": [],
   "source": [
    "len(a)  #查阅数组有多少行"
   ]
  },
  {
   "cell_type": "code",
   "execution_count": null,
   "id": "58414c8b",
   "metadata": {},
   "outputs": [],
   "source": [
    "a.size  #查询数组有多少个数据"
   ]
  },
  {
   "cell_type": "code",
   "execution_count": null,
   "id": "215301ae",
   "metadata": {},
   "outputs": [],
   "source": [
    "# 修改数组的形状\n",
    "a.reshape((-1,5))"
   ]
  },
  {
   "cell_type": "code",
   "execution_count": null,
   "id": "2544b378",
   "metadata": {},
   "outputs": [],
   "source": []
  },
  {
   "cell_type": "markdown",
   "id": "b44c15b8",
   "metadata": {},
   "source": [
    "访问数组"
   ]
  },
  {
   "cell_type": "code",
   "execution_count": null,
   "id": "731b0e7e",
   "metadata": {},
   "outputs": [],
   "source": [
    "a = np.random.randint(2,100,24).reshape((3,8))\n",
    "a"
   ]
  },
  {
   "cell_type": "code",
   "execution_count": null,
   "id": "220f61ec",
   "metadata": {},
   "outputs": [],
   "source": [
    "a[2,7]"
   ]
  },
  {
   "cell_type": "code",
   "execution_count": null,
   "id": "67b4264a",
   "metadata": {},
   "outputs": [],
   "source": [
    "b = a.reshape((2,3,4))\n",
    "b"
   ]
  },
  {
   "cell_type": "code",
   "execution_count": null,
   "id": "ec8a1ce1",
   "metadata": {},
   "outputs": [],
   "source": [
    "b[1,1,2]"
   ]
  },
  {
   "cell_type": "code",
   "execution_count": null,
   "id": "87d1b27d",
   "metadata": {},
   "outputs": [],
   "source": [
    "b[:,1:,2]"
   ]
  },
  {
   "cell_type": "code",
   "execution_count": null,
   "id": "c3e72f93",
   "metadata": {},
   "outputs": [],
   "source": [
    "# array([[20, 73,\n",
    "#        [44, 43]])"
   ]
  },
  {
   "cell_type": "code",
   "execution_count": null,
   "id": "c95b26f5",
   "metadata": {},
   "outputs": [],
   "source": [
    "b[1,1:,2:]"
   ]
  },
  {
   "cell_type": "code",
   "execution_count": null,
   "id": "caf63452",
   "metadata": {},
   "outputs": [],
   "source": []
  },
  {
   "cell_type": "code",
   "execution_count": null,
   "id": "c8c2bbb6",
   "metadata": {},
   "outputs": [],
   "source": [
    "a = np.random.randint(2,100,24).reshape((3,8))\n",
    "a"
   ]
  },
  {
   "cell_type": "code",
   "execution_count": null,
   "id": "ca525a7a",
   "metadata": {},
   "outputs": [],
   "source": [
    "b = a.reshape((4,6))\n",
    "b"
   ]
  },
  {
   "cell_type": "code",
   "execution_count": null,
   "id": "1d7e9bcc",
   "metadata": {},
   "outputs": [],
   "source": [
    "# 获取数组;\n",
    "# array([60, 7,22, 2])"
   ]
  },
  {
   "cell_type": "code",
   "execution_count": null,
   "id": "6f2afa7f",
   "metadata": {},
   "outputs": [],
   "source": [
    "b[2:,4:]"
   ]
  },
  {
   "cell_type": "code",
   "execution_count": null,
   "id": "e45c415a",
   "metadata": {},
   "outputs": [],
   "source": [
    "# 切片 :\n",
    "#     [开始:结束:步长]"
   ]
  },
  {
   "cell_type": "code",
   "execution_count": null,
   "id": "8670bf97",
   "metadata": {},
   "outputs": [],
   "source": [
    "# 练习:\n",
    "#     取出二维数组中的值\n",
    "# array([[6, 47, 71],\n",
    "#        [31,9, 16]])\n",
    "#      取出二维数组中的值\n",
    "# array([[6, 71],\n",
    "#        [31,16]])"
   ]
  },
  {
   "cell_type": "code",
   "execution_count": null,
   "id": "e976756e",
   "metadata": {},
   "outputs": [],
   "source": []
  },
  {
   "cell_type": "code",
   "execution_count": null,
   "id": "1091085b",
   "metadata": {},
   "outputs": [],
   "source": []
  },
  {
   "cell_type": "code",
   "execution_count": null,
   "id": "3591de97",
   "metadata": {},
   "outputs": [],
   "source": []
  },
  {
   "cell_type": "code",
   "execution_count": null,
   "id": "3aec389d",
   "metadata": {},
   "outputs": [],
   "source": []
  },
  {
   "cell_type": "code",
   "execution_count": null,
   "id": "10261bf3",
   "metadata": {},
   "outputs": [],
   "source": []
  }
 ],
 "metadata": {
  "kernelspec": {
   "display_name": "Python [conda env:base] *",
   "language": "python",
   "name": "conda-base-py"
  },
  "language_info": {
   "codemirror_mode": {
    "name": "ipython",
    "version": 3
   },
   "file_extension": ".py",
   "mimetype": "text/x-python",
   "name": "python",
   "nbconvert_exporter": "python",
   "pygments_lexer": "ipython3",
   "version": "3.12.7"
  }
 },
 "nbformat": 4,
 "nbformat_minor": 5
}

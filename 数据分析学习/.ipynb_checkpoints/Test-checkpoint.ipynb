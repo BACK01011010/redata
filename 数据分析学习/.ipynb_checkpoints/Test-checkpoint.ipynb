{
 "cells": [
  {
   "cell_type": "code",
   "execution_count": 16,
   "id": "99f97bd8-098c-4f15-b616-be1fceca7d36",
   "metadata": {},
   "outputs": [],
   "source": [
    "#numpy库"
   ]
  },
  {
   "cell_type": "code",
   "execution_count": 18,
   "id": "57d4b253-0423-4467-8265-90f5641c5f74",
   "metadata": {},
   "outputs": [],
   "source": [
    "import numpy as np"
   ]
  },
  {
   "cell_type": "code",
   "execution_count": 20,
   "id": "e08673e3-3fac-491f-b208-e6fc789f8bb9",
   "metadata": {},
   "outputs": [],
   "source": [
    "#help(np)"
   ]
  },
  {
   "cell_type": "code",
   "execution_count": 22,
   "id": "0648f9d7-7560-4bd7-97fc-4e3456da7c37",
   "metadata": {},
   "outputs": [
    {
     "data": {
      "text/plain": [
       "1.9591760666462812"
      ]
     },
     "execution_count": 22,
     "metadata": {},
     "output_type": "execute_result"
    }
   ],
   "source": [
    "#生成一个0-1均匀产生的随机数组\n",
    "np.random.rand()\n",
    "# 生成一个以0为中心，一个标准的正态分布随机教\n",
    "np.random.randn()\n",
    "#生成的是一个离散分布的随机整数值\n",
    "# np.random.randint()"
   ]
  },
  {
   "cell_type": "code",
   "execution_count": 24,
   "id": "abdae4c5-5add-4bfa-b7f4-bb87fcff816a",
   "metadata": {},
   "outputs": [],
   "source": [
    "# 练习:\n",
    "#自动生成一个0-100分，正态分布在80分段的,全班50人的数组"
   ]
  },
  {
   "cell_type": "code",
   "execution_count": 26,
   "id": "6ded1330-0a47-43f0-a303-8912f54a9c7a",
   "metadata": {},
   "outputs": [
    {
     "data": {
      "text/plain": [
       "array([-1.06075285,  0.20234703,  0.57922206, -0.34102322, -0.8004366 ,\n",
       "       -0.438824  ,  0.17321083,  0.87563418, -0.60717426, -1.64137649,\n",
       "       -0.2205469 ,  1.48420959,  0.65167155, -1.63553455,  0.23860472,\n",
       "        0.50984385, -0.15530924, -0.7187478 ,  1.69566214, -1.07028886,\n",
       "        0.88115205,  0.99504553,  1.57166804, -1.46137099, -0.33302713,\n",
       "        0.50626729, -1.13464759,  0.49337232, -0.50406899,  1.07251643,\n",
       "       -0.32394535,  0.70051415, -0.29163278, -0.23460929,  1.61815848,\n",
       "       -1.34932626, -0.96364327, -0.85153977,  1.02383554,  0.31747243,\n",
       "        2.19168007,  0.74656398,  0.68891913, -0.16718827, -1.43996959,\n",
       "        2.67636868,  0.57202   ,  0.11770625, -1.26696655,  1.13403787,\n",
       "        2.13008039, -0.34554047, -0.05842789, -1.06378181, -0.5848258 ,\n",
       "       -0.65965846,  0.26204356,  0.51336501, -0.08886131,  1.07002339,\n",
       "       -1.16472873,  0.5288166 ,  0.60635832, -0.65649821, -0.81118621,\n",
       "       -1.08201673,  0.92500796,  0.11285342, -0.28092314,  0.60721759,\n",
       "        0.84359798,  0.6924002 , -0.28536213, -1.52521667,  0.04513397,\n",
       "        0.95482637,  0.53724754,  0.09940837, -0.06589031,  0.2976273 ])"
      ]
     },
     "execution_count": 26,
     "metadata": {},
     "output_type": "execute_result"
    }
   ],
   "source": [
    "np.random.randn(80)"
   ]
  },
  {
   "cell_type": "code",
   "execution_count": 28,
   "id": "78899265-b9b0-4786-8bb8-912682624b8a",
   "metadata": {},
   "outputs": [
    {
     "data": {
      "text/plain": [
       "array([[ 8, 24, 36, 22,  7],\n",
       "       [22, 75, 58, 86, 74],\n",
       "       [35,  8, 75, 87, 38],\n",
       "       [37,  6, 80,  5, 51],\n",
       "       [17, 66, 10, 56, 43],\n",
       "       [48, 56, 64, 43, 12],\n",
       "       [ 4, 81, 33, 56, 56],\n",
       "       [20, 83, 21, 16, 67],\n",
       "       [68,  1, 30, 72, 39],\n",
       "       [92, 92, 24, 31, 85]])"
      ]
     },
     "execution_count": 28,
     "metadata": {},
     "output_type": "execute_result"
    }
   ],
   "source": [
    "np.random.randn(80)\n",
    "np.random.randint(0,100,size=(10,5))"
   ]
  },
  {
   "cell_type": "code",
   "execution_count": null,
   "id": "9e475c36-d1e9-4dd3-b3c6-7020d2f9a14d",
   "metadata": {},
   "outputs": [],
   "source": []
  },
  {
   "cell_type": "code",
   "execution_count": null,
   "id": "5aef9003-bcdc-4e23-8d72-be6279e07669",
   "metadata": {},
   "outputs": [],
   "source": []
  },
  {
   "cell_type": "code",
   "execution_count": null,
   "id": "d06080f7-9147-412e-a318-6b413d9d1954",
   "metadata": {},
   "outputs": [],
   "source": []
  },
  {
   "cell_type": "code",
   "execution_count": null,
   "id": "759b992e-4324-437b-ac88-c0cc9b261edc",
   "metadata": {},
   "outputs": [],
   "source": []
  },
  {
   "cell_type": "code",
   "execution_count": null,
   "id": "0df87008-79df-4e52-a26c-c5139e8e4889",
   "metadata": {},
   "outputs": [],
   "source": []
  },
  {
   "cell_type": "code",
   "execution_count": null,
   "id": "af5d4220-3550-435b-9db9-777dc88c47aa",
   "metadata": {},
   "outputs": [],
   "source": []
  },
  {
   "cell_type": "code",
   "execution_count": null,
   "id": "e8b679b1-4efb-475c-b325-78f638c17a88",
   "metadata": {},
   "outputs": [],
   "source": []
  }
 ],
 "metadata": {
  "kernelspec": {
   "display_name": "Python [conda env:base] *",
   "language": "python",
   "name": "conda-base-py"
  },
  "language_info": {
   "codemirror_mode": {
    "name": "ipython",
    "version": 3
   },
   "file_extension": ".py",
   "mimetype": "text/x-python",
   "name": "python",
   "nbconvert_exporter": "python",
   "pygments_lexer": "ipython3",
   "version": "3.12.7"
  }
 },
 "nbformat": 4,
 "nbformat_minor": 5
}

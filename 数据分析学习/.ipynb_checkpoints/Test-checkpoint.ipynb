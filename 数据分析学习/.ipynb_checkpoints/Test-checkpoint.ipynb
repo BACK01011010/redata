{
 "cells": [
  {
   "cell_type": "code",
   "execution_count": 1,
   "id": "99f97bd8-098c-4f15-b616-be1fceca7d36",
   "metadata": {},
   "outputs": [],
   "source": [
    "#numpy库"
   ]
  },
  {
   "cell_type": "code",
   "execution_count": 2,
   "id": "57d4b253-0423-4467-8265-90f5641c5f74",
   "metadata": {},
   "outputs": [],
   "source": [
    "import numpy as np"
   ]
  },
  {
   "cell_type": "code",
   "execution_count": 43,
   "id": "e08673e3-3fac-491f-b208-e6fc789f8bb9",
   "metadata": {},
   "outputs": [],
   "source": [
    "#help(np)"
   ]
  },
  {
   "cell_type": "code",
   "execution_count": null,
   "id": "0648f9d7-7560-4bd7-97fc-4e3456da7c37",
   "metadata": {},
   "outputs": [],
   "source": [
    "#生成一个0-1均匀产生的随机数组\n",
    "np.random.rand()\n",
    "# 生成一个以0为中心，一个标准的正态分布随机教\n",
    "np.random.randn()\n",
    "#生成的是一个离散分布的随机整数值\n",
    "np.random.randint()"
   ]
  },
  {
   "cell_type": "code",
   "execution_count": null,
   "id": "abdae4c5-5add-4bfa-b7f4-bb87fcff816a",
   "metadata": {},
   "outputs": [],
   "source": [
    "# 练习:\n",
    "#自动生成一个0-100分，正态分布在80分段的,全班50人的数组"
   ]
  },
  {
   "cell_type": "code",
   "execution_count": 17,
   "id": "6ded1330-0a47-43f0-a303-8912f54a9c7a",
   "metadata": {},
   "outputs": [
    {
     "data": {
      "text/plain": [
       "array([ 0.12771241, -1.22399768,  0.16726366, -1.33222376,  1.83183638,\n",
       "       -0.90353036, -0.89645492,  0.44705658,  0.85277341, -0.83790975,\n",
       "       -0.8002775 ,  0.53712977, -1.05028119, -1.30850164, -0.66004073,\n",
       "       -1.19823091,  1.72962081,  0.59096538, -0.39882587,  0.54998784,\n",
       "        2.49635551,  0.21326765, -2.03713213,  1.01291277,  1.57675331,\n",
       "       -1.11837833,  1.51469392, -0.3896146 ,  0.84504076,  1.165363  ,\n",
       "        0.84427462,  0.71216426, -0.09256397,  2.19914789,  0.53792098,\n",
       "        0.63681016,  0.69014186, -1.3613131 ,  0.27178095,  0.67524275,\n",
       "       -0.79750426,  0.95343912, -0.91225402, -0.17534998,  0.69617841,\n",
       "       -0.36713922, -1.3706852 ,  0.44757339,  0.91203341, -0.75176244,\n",
       "       -0.14704375, -0.62111014,  0.01537385,  0.11690955, -0.19753979,\n",
       "       -0.72993449, -0.08560737, -1.16752758,  0.48667456,  0.06545419,\n",
       "       -1.63781731,  1.11071107, -1.22557217,  0.46287561, -0.93729724,\n",
       "       -0.15493504,  1.92279459,  0.14816138,  0.59097931, -0.26483599,\n",
       "        0.72979987, -0.61668172,  1.38045136,  0.67556646,  1.61490274,\n",
       "       -2.00107665, -1.74544067, -0.85955188, -0.58082909,  0.41248374])"
      ]
     },
     "execution_count": 17,
     "metadata": {},
     "output_type": "execute_result"
    }
   ],
   "source": [
    "np.random.randn(80)"
   ]
  },
  {
   "cell_type": "code",
   "execution_count": 45,
   "id": "78899265-b9b0-4786-8bb8-912682624b8a",
   "metadata": {},
   "outputs": [
    {
     "data": {
      "text/plain": [
       "array([[98, 92, 39, 31, 40],\n",
       "       [41, 50, 52, 73, 65],\n",
       "       [80, 58, 93, 66, 72],\n",
       "       [93, 33, 19, 22, 91],\n",
       "       [23, 71, 36, 10, 14],\n",
       "       [60, 75, 73, 33, 65],\n",
       "       [53, 25, 90,  7, 51],\n",
       "       [56, 23, 93, 73, 18],\n",
       "       [93, 77, 79, 69, 44],\n",
       "       [76, 83, 59, 90, 31]])"
      ]
     },
     "execution_count": 45,
     "metadata": {},
     "output_type": "execute_result"
    }
   ],
   "source": [
    "np.random.randn(80)\n",
    "np.random.randint(0,100,size=(10,5))"
   ]
  },
  {
   "cell_type": "code",
   "execution_count": null,
   "id": "9e475c36-d1e9-4dd3-b3c6-7020d2f9a14d",
   "metadata": {},
   "outputs": [],
   "source": []
  }
 ],
 "metadata": {
  "kernelspec": {
   "display_name": "Python [conda env:base] *",
   "language": "python",
   "name": "conda-base-py"
  },
  "language_info": {
   "codemirror_mode": {
    "name": "ipython",
    "version": 3
   },
   "file_extension": ".py",
   "mimetype": "text/x-python",
   "name": "python",
   "nbconvert_exporter": "python",
   "pygments_lexer": "ipython3",
   "version": "3.12.7"
  }
 },
 "nbformat": 4,
 "nbformat_minor": 5
}

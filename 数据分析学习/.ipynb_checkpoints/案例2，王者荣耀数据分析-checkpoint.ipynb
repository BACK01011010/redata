{
 "cells": [
  {
   "cell_type": "markdown",
   "id": "d74f6c80",
   "metadata": {},
   "source": [
    "# 案例2：\n",
    "# 王者荣耀游戏数据分析"
   ]
  },
  {
   "cell_type": "code",
   "execution_count": 43,
   "id": "1eee234b",
   "metadata": {},
   "outputs": [],
   "source": [
    "# 确认问题： 通过数据分析，找到这个游戏当中的强力英雄"
   ]
  },
  {
   "cell_type": "code",
   "execution_count": 45,
   "id": "230390f8",
   "metadata": {},
   "outputs": [],
   "source": [
    "import pandas as pd\n",
    "import numpy as np\n",
    "import matplotlib.pyplot as plt\n",
    "from collections import Counter"
   ]
  },
  {
   "cell_type": "code",
   "execution_count": 47,
   "id": "7a190ece",
   "metadata": {},
   "outputs": [],
   "source": [
    "# 获取数据，将下载好的数据导入到环境中"
   ]
  },
  {
   "cell_type": "code",
   "execution_count": 49,
   "id": "cd8d3f74",
   "metadata": {
    "scrolled": true
   },
   "outputs": [
    {
     "data": {
      "text/html": [
       "<div>\n",
       "<style scoped>\n",
       "    .dataframe tbody tr th:only-of-type {\n",
       "        vertical-align: middle;\n",
       "    }\n",
       "\n",
       "    .dataframe tbody tr th {\n",
       "        vertical-align: top;\n",
       "    }\n",
       "\n",
       "    .dataframe thead th {\n",
       "        text-align: right;\n",
       "    }\n",
       "</style>\n",
       "<table border=\"1\" class=\"dataframe\">\n",
       "  <thead>\n",
       "    <tr style=\"text-align: right;\">\n",
       "      <th></th>\n",
       "      <th>英雄</th>\n",
       "      <th>Pick场数</th>\n",
       "      <th>总击杀</th>\n",
       "      <th>场均KDA</th>\n",
       "      <th>场均击杀</th>\n",
       "      <th>场均死亡</th>\n",
       "      <th>场均助攻</th>\n",
       "      <th>GPM</th>\n",
       "      <th>XPM</th>\n",
       "      <th>被Ban场数</th>\n",
       "      <th>胜率</th>\n",
       "      <th>出场率</th>\n",
       "      <th>Ban率</th>\n",
       "      <th>热度</th>\n",
       "    </tr>\n",
       "  </thead>\n",
       "  <tbody>\n",
       "    <tr>\n",
       "      <th>0</th>\n",
       "      <td>NaN</td>\n",
       "      <td>NaN</td>\n",
       "      <td>NaN</td>\n",
       "      <td>NaN</td>\n",
       "      <td>NaN</td>\n",
       "      <td>NaN</td>\n",
       "      <td>NaN</td>\n",
       "      <td>NaN</td>\n",
       "      <td>NaN</td>\n",
       "      <td>NaN</td>\n",
       "      <td>NaN</td>\n",
       "      <td>NaN</td>\n",
       "      <td>NaN</td>\n",
       "      <td>NaN</td>\n",
       "    </tr>\n",
       "    <tr>\n",
       "      <th>1</th>\n",
       "      <td>猪八戒</td>\n",
       "      <td>251.0</td>\n",
       "      <td>237.0</td>\n",
       "      <td>4.11</td>\n",
       "      <td>0.94</td>\n",
       "      <td>2.36</td>\n",
       "      <td>5.94</td>\n",
       "      <td>483.24</td>\n",
       "      <td>81.03</td>\n",
       "      <td>114.0</td>\n",
       "      <td>0.5</td>\n",
       "      <td>0.40</td>\n",
       "      <td>0.18</td>\n",
       "      <td>0.58</td>\n",
       "    </tr>\n",
       "    <tr>\n",
       "      <th>2</th>\n",
       "      <td>吕布</td>\n",
       "      <td>241.0</td>\n",
       "      <td>341.0</td>\n",
       "      <td>4.19</td>\n",
       "      <td>1.41</td>\n",
       "      <td>2.40</td>\n",
       "      <td>5.80</td>\n",
       "      <td>498.61</td>\n",
       "      <td>83.59</td>\n",
       "      <td>68.0</td>\n",
       "      <td>0.5</td>\n",
       "      <td>0.38</td>\n",
       "      <td>0.11</td>\n",
       "      <td>0.49</td>\n",
       "    </tr>\n",
       "  </tbody>\n",
       "</table>\n",
       "</div>"
      ],
      "text/plain": [
       "    英雄  Pick场数    总击杀  场均KDA  场均击杀  场均死亡  场均助攻     GPM    XPM  被Ban场数   胜率  \\\n",
       "0  NaN     NaN    NaN    NaN   NaN   NaN   NaN     NaN    NaN     NaN  NaN   \n",
       "1  猪八戒   251.0  237.0   4.11  0.94  2.36  5.94  483.24  81.03   114.0  0.5   \n",
       "2   吕布   241.0  341.0   4.19  1.41  2.40  5.80  498.61  83.59    68.0  0.5   \n",
       "\n",
       "    出场率  Ban率    热度  \n",
       "0   NaN   NaN   NaN  \n",
       "1  0.40  0.18  0.58  \n",
       "2  0.38  0.11  0.49  "
      ]
     },
     "execution_count": 49,
     "metadata": {},
     "output_type": "execute_result"
    }
   ],
   "source": [
    "df = pd.read_excel(r'data/全部英雄数据-20210311-20210609.xlsx')\n",
    "df.head(3)"
   ]
  },
  {
   "cell_type": "code",
   "execution_count": 51,
   "id": "ce692cc3",
   "metadata": {},
   "outputs": [
    {
     "data": {
      "text/html": [
       "<div>\n",
       "<style scoped>\n",
       "    .dataframe tbody tr th:only-of-type {\n",
       "        vertical-align: middle;\n",
       "    }\n",
       "\n",
       "    .dataframe tbody tr th {\n",
       "        vertical-align: top;\n",
       "    }\n",
       "\n",
       "    .dataframe thead th {\n",
       "        text-align: right;\n",
       "    }\n",
       "</style>\n",
       "<table border=\"1\" class=\"dataframe\">\n",
       "  <thead>\n",
       "    <tr style=\"text-align: right;\">\n",
       "      <th></th>\n",
       "      <th>英雄</th>\n",
       "      <th>Pick场数</th>\n",
       "      <th>总击杀</th>\n",
       "      <th>场均KDA</th>\n",
       "      <th>场均击杀</th>\n",
       "      <th>场均死亡</th>\n",
       "      <th>场均助攻</th>\n",
       "      <th>GPM</th>\n",
       "      <th>XPM</th>\n",
       "      <th>被Ban场数</th>\n",
       "      <th>胜率</th>\n",
       "      <th>出场率</th>\n",
       "      <th>Ban率</th>\n",
       "      <th>热度</th>\n",
       "    </tr>\n",
       "  </thead>\n",
       "  <tbody>\n",
       "    <tr>\n",
       "      <th>1</th>\n",
       "      <td>猪八戒</td>\n",
       "      <td>251.0</td>\n",
       "      <td>237.0</td>\n",
       "      <td>4.11</td>\n",
       "      <td>0.94</td>\n",
       "      <td>2.36</td>\n",
       "      <td>5.94</td>\n",
       "      <td>483.24</td>\n",
       "      <td>81.03</td>\n",
       "      <td>114.0</td>\n",
       "      <td>0.50</td>\n",
       "      <td>0.40</td>\n",
       "      <td>0.18</td>\n",
       "      <td>0.58</td>\n",
       "    </tr>\n",
       "    <tr>\n",
       "      <th>2</th>\n",
       "      <td>吕布</td>\n",
       "      <td>241.0</td>\n",
       "      <td>341.0</td>\n",
       "      <td>4.19</td>\n",
       "      <td>1.41</td>\n",
       "      <td>2.40</td>\n",
       "      <td>5.80</td>\n",
       "      <td>498.61</td>\n",
       "      <td>83.59</td>\n",
       "      <td>68.0</td>\n",
       "      <td>0.50</td>\n",
       "      <td>0.38</td>\n",
       "      <td>0.11</td>\n",
       "      <td>0.49</td>\n",
       "    </tr>\n",
       "    <tr>\n",
       "      <th>3</th>\n",
       "      <td>廉颇</td>\n",
       "      <td>224.0</td>\n",
       "      <td>295.0</td>\n",
       "      <td>4.33</td>\n",
       "      <td>1.31</td>\n",
       "      <td>2.32</td>\n",
       "      <td>5.78</td>\n",
       "      <td>481.37</td>\n",
       "      <td>78.91</td>\n",
       "      <td>42.0</td>\n",
       "      <td>0.49</td>\n",
       "      <td>0.36</td>\n",
       "      <td>0.07</td>\n",
       "      <td>0.42</td>\n",
       "    </tr>\n",
       "  </tbody>\n",
       "</table>\n",
       "</div>"
      ],
      "text/plain": [
       "    英雄  Pick场数    总击杀  场均KDA  场均击杀  场均死亡  场均助攻     GPM    XPM  被Ban场数    胜率  \\\n",
       "1  猪八戒   251.0  237.0   4.11  0.94  2.36  5.94  483.24  81.03   114.0  0.50   \n",
       "2   吕布   241.0  341.0   4.19  1.41  2.40  5.80  498.61  83.59    68.0  0.50   \n",
       "3   廉颇   224.0  295.0   4.33  1.31  2.32  5.78  481.37  78.91    42.0  0.49   \n",
       "\n",
       "    出场率  Ban率    热度  \n",
       "1  0.40  0.18  0.58  \n",
       "2  0.38  0.11  0.49  \n",
       "3  0.36  0.07  0.42  "
      ]
     },
     "execution_count": 51,
     "metadata": {},
     "output_type": "execute_result"
    }
   ],
   "source": [
    "ori_data = df.drop(0)\n",
    "ori_data.head(3)"
   ]
  },
  {
   "cell_type": "code",
   "execution_count": 53,
   "id": "c0c7144d",
   "metadata": {},
   "outputs": [
    {
     "data": {
      "text/html": [
       "<div>\n",
       "<style scoped>\n",
       "    .dataframe tbody tr th:only-of-type {\n",
       "        vertical-align: middle;\n",
       "    }\n",
       "\n",
       "    .dataframe tbody tr th {\n",
       "        vertical-align: top;\n",
       "    }\n",
       "\n",
       "    .dataframe thead th {\n",
       "        text-align: right;\n",
       "    }\n",
       "</style>\n",
       "<table border=\"1\" class=\"dataframe\">\n",
       "  <thead>\n",
       "    <tr style=\"text-align: right;\">\n",
       "      <th></th>\n",
       "      <th>英雄</th>\n",
       "      <th>Pick场数</th>\n",
       "      <th>总击杀</th>\n",
       "      <th>场均KDA</th>\n",
       "      <th>场均击杀</th>\n",
       "      <th>场均助攻</th>\n",
       "      <th>GPM</th>\n",
       "      <th>XPM</th>\n",
       "      <th>胜率</th>\n",
       "      <th>出场率</th>\n",
       "    </tr>\n",
       "  </thead>\n",
       "  <tbody>\n",
       "    <tr>\n",
       "      <th>1</th>\n",
       "      <td>猪八戒</td>\n",
       "      <td>251.0</td>\n",
       "      <td>237.0</td>\n",
       "      <td>4.11</td>\n",
       "      <td>0.94</td>\n",
       "      <td>5.94</td>\n",
       "      <td>483.24</td>\n",
       "      <td>81.03</td>\n",
       "      <td>0.50</td>\n",
       "      <td>0.40</td>\n",
       "    </tr>\n",
       "    <tr>\n",
       "      <th>2</th>\n",
       "      <td>吕布</td>\n",
       "      <td>241.0</td>\n",
       "      <td>341.0</td>\n",
       "      <td>4.19</td>\n",
       "      <td>1.41</td>\n",
       "      <td>5.80</td>\n",
       "      <td>498.61</td>\n",
       "      <td>83.59</td>\n",
       "      <td>0.50</td>\n",
       "      <td>0.38</td>\n",
       "    </tr>\n",
       "    <tr>\n",
       "      <th>3</th>\n",
       "      <td>廉颇</td>\n",
       "      <td>224.0</td>\n",
       "      <td>295.0</td>\n",
       "      <td>4.33</td>\n",
       "      <td>1.31</td>\n",
       "      <td>5.78</td>\n",
       "      <td>481.37</td>\n",
       "      <td>78.91</td>\n",
       "      <td>0.49</td>\n",
       "      <td>0.36</td>\n",
       "    </tr>\n",
       "  </tbody>\n",
       "</table>\n",
       "</div>"
      ],
      "text/plain": [
       "    英雄  Pick场数    总击杀  场均KDA  场均击杀  场均助攻     GPM    XPM    胜率   出场率\n",
       "1  猪八戒   251.0  237.0   4.11  0.94  5.94  483.24  81.03  0.50  0.40\n",
       "2   吕布   241.0  341.0   4.19  1.41  5.80  498.61  83.59  0.50  0.38\n",
       "3   廉颇   224.0  295.0   4.33  1.31  5.78  481.37  78.91  0.49  0.36"
      ]
     },
     "execution_count": 53,
     "metadata": {},
     "output_type": "execute_result"
    }
   ],
   "source": [
    "# 处理数据，让数据更加适合下一步的数据分析\n",
    "# 表头中的信息，哪些和强力英雄不相关\n",
    "drop_list = ['热度','Ban率','被Ban场数','场均死亡']\n",
    "data = ori_data.drop(drop_list,axis=1)\n",
    "data.head(3)"
   ]
  },
  {
   "cell_type": "code",
   "execution_count": 55,
   "id": "c5093c52",
   "metadata": {},
   "outputs": [
    {
     "data": {
      "text/plain": [
       "Index(['英雄', 'Pick场数', '总击杀', '场均KDA', '场均击杀', '场均助攻', 'GPM', 'XPM', '胜率',\n",
       "       '出场率'],\n",
       "      dtype='object')"
      ]
     },
     "execution_count": 55,
     "metadata": {},
     "output_type": "execute_result"
    }
   ],
   "source": [
    "data.columns"
   ]
  },
  {
   "cell_type": "code",
   "execution_count": 57,
   "id": "923b2c21",
   "metadata": {},
   "outputs": [],
   "source": [
    "# 计算分析，为所有英雄评分\n",
    "# 每一列英雄排名打印出来 （从高到低排序）\n",
    "\n",
    "# 展示数据内容（展示每列排名前7个英雄）\n",
    "\n",
    "# 最好用图像展示出分析结果 matplotlib库"
   ]
  },
  {
   "cell_type": "code",
   "execution_count": 59,
   "id": "abdf5ad0",
   "metadata": {},
   "outputs": [
    {
     "name": "stdout",
     "output_type": "stream",
     "text": [
      "正在分析Pick场数指标:\t\n",
      "__强力英雄有['镜', '太乙真人', '马可波罗', '娜可露露', '廉颇', '吕布', '猪八戒']__\n",
      "正在分析总击杀指标:\t\n",
      "__强力英雄有['不知火舞', '虞姬', '马超', '公孙离', '马可波罗', '镜', '娜可露露']__\n",
      "正在分析场均KDA指标:\t\n",
      "__强力英雄有['孙膑', '鲁班大师', '沈梦溪', '西施', '项羽', '武则天', '明世隐']__\n",
      "正在分析场均击杀指标:\t\n",
      "__强力英雄有['孙尚香', '马超', '镜', '蒙犽', '澜', '孙悟空', '成吉思汗']__\n",
      "正在分析场均助攻指标:\t\n",
      "__强力英雄有['大乔', '西施', '项羽', '孙膑', '鲁班大师', '鬼谷子', '明世隐']__\n",
      "正在分析GPM指标:\t\n",
      "__强力英雄有['黄忠', '裴擒虎', '百里玄策', '澜', '孙尚香', '韩信', '成吉思汗']__\n",
      "正在分析XPM指标:\t\n",
      "__强力英雄有['明世隐', '澜', '韩信', '艾琳', '司马懿', '成吉思汗', '孙悟空']__\n",
      "正在分析胜率指标:\t\n",
      "__强力英雄有['东皇太一', '西施', '兰陵王', '项羽', '鬼谷子', '梦奇', '孙悟空']__\n",
      "正在分析出场率指标:\t\n",
      "__强力英雄有['镜', '太乙真人', '马可波罗', '娜可露露', '廉颇', '吕布', '猪八戒']__\n"
     ]
    }
   ],
   "source": [
    "analysis_num = 7\n",
    "power_groups = []\n",
    "for col_name in data.columns[1:]:\n",
    "    print('正在分析{}指标:\\t'.format(col_name))\n",
    "#     对每一个指标的数据进行排序，展示前七个强力英雄名字\n",
    "    power_index = data[col_name].values.argsort()[-analysis_num:]\n",
    "    # print(power_index)\n",
    "    power_players = data['英雄'].values[power_index].tolist()\n",
    "    # print(power_players)\n",
    "    print('__强力英雄有{}__'.format(power_players))\n",
    "\n",
    "    # 可以分组加入组中\n",
    "    power_groups.extend(power_players)"
   ]
  },
  {
   "cell_type": "code",
   "execution_count": 65,
   "id": "22d29994",
   "metadata": {},
   "outputs": [],
   "source": [
    "# 写一个函数去展示我们的图像\n",
    "def show_data():\n",
    "    plt.figure(figsize=(16,9))\n",
    "    sort_result = list(Counter(power_groups).items())\n",
    "#     数据分组导入\n",
    "    for one_result in sort_result:\n",
    "        plt.bar(x=one_result[0],height=one_result[1],label=one_result[0])\n",
    "    \n",
    "#     黑体字，和微软雅黑\n",
    "    plt.rcParams['font.sans-serif'] = ['SimHei']\n",
    "    plt.rcParams['font.sans-serif'] = ['Microsoft YaHei']\n",
    "    plt.title('英雄实力数据分析结果')\n",
    "    plt.ylabel('英雄强力指标出现次数')\n",
    "    plt.xticks(rotation=45)\n",
    "    \n",
    "#     展示图像内容\n",
    "    plt.show()\n",
    "    plt.savefig('data/1.webp')\n",
    "# 长期保存数据\n",
    "    plt.savefig('data/1.jpg')"
   ]
  },
  {
   "cell_type": "code",
   "execution_count": 67,
   "id": "46753d13-33d2-4448-b8f5-64646775c5d4",
   "metadata": {},
   "outputs": [
    {
     "data": {
      "image/png": "[encoded data removed]",
      "text/plain": [
       "<Figure size 1600x900 with 1 Axes>"
      ]
     },
     "metadata": {},
     "output_type": "display_data"
    },
    {
     "data": {
      "text/plain": [
       "<Figure size 640x480 with 0 Axes>"
      ]
     },
     "metadata": {},
     "output_type": "display_data"
    }
   ],
   "source": [
    "show_data()"
   ]
  },
  {
   "cell_type": "code",
   "execution_count": 85,
   "id": "d4827483-7da9-42e7-86c3-8d8d9884e09b",
   "metadata": {},
   "outputs": [],
   "source": [
    "# echarts.js 前端库\n",
    "# pyecharts\n",
    "\n",
    "# pip install pyecharts\n",
    "# conda install pyecharts"
   ]
  },
  {
   "cell_type": "code",
   "execution_count": 91,
   "id": "966e8282-48a9-45eb-94d5-3a514de9ccf2",
   "metadata": {},
   "outputs": [],
   "source": [
    "from pyecharts.charts import Bar\n",
    "from pyecharts.faker import Faker"
   ]
  },
  {
   "cell_type": "code",
   "execution_count": 97,
   "id": "1442b438-3762-4e97-8927-312228ff723b",
   "metadata": {},
   "outputs": [
    {
     "ename": "NameError",
     "evalue": "name 'x' is not defined",
     "output_type": "error",
     "traceback": [
      "\u001b[1;31m---------------------------------------------------------------------------\u001b[0m",
      "\u001b[1;31mNameError\u001b[0m                                 Traceback (most recent call last)",
      "Cell \u001b[1;32mIn[97], line 5\u001b[0m\n\u001b[0;32m      1\u001b[0m \u001b[38;5;66;03m#\u001b[39;00m\n\u001b[0;32m      3\u001b[0m a \u001b[38;5;241m=\u001b[39m (\n\u001b[0;32m      4\u001b[0m     Bar()\n\u001b[1;32m----> 5\u001b[0m     \u001b[38;5;241m.\u001b[39madd_xaxis(x)\n\u001b[0;32m      6\u001b[0m     \u001b[38;5;241m.\u001b[39madd_yaxis(\u001b[38;5;124m'\u001b[39m\u001b[38;5;124m'\u001b[39m,height)\n\u001b[0;32m      7\u001b[0m )\n\u001b[0;32m      8\u001b[0m a\u001b[38;5;241m.\u001b[39mrender_notebook()\n\u001b[0;32m      9\u001b[0m a\u001b[38;5;241m.\u001b[39mrender(\u001b[38;5;124m'\u001b[39m\u001b[38;5;124mdata/柱状图.html\u001b[39m\u001b[38;5;124m'\u001b[39m)\n",
      "\u001b[1;31mNameError\u001b[0m: name 'x' is not defined"
     ]
    }
   ],
   "source": [
    "from pyecharts.faker import Faker\n",
    "\n",
    "a = (\n",
    "    Bar()\n",
    "    .add_xaxis(['1','2','3'])\n",
    "    .add_yaxis('',Faker.values)\n",
    ")\n",
    "a.render_notebook()\n",
    "a.render('data/柱状图.html')"
   ]
  },
  {
   "cell_type": "code",
   "execution_count": null,
   "id": "37704c89-3142-498c-9e51-205f2bc0acc9",
   "metadata": {},
   "outputs": [],
   "source": []
  },
  {
   "cell_type": "code",
   "execution_count": null,
   "id": "f305cfe6-768d-4692-8b61-337dd259d30c",
   "metadata": {},
   "outputs": [],
   "source": [
    "# 根据plt展示图像的内容，\n",
    "# 移植到pyecharts当中，展示数据内容。"
   ]
  },
  {
   "cell_type": "code",
   "execution_count": null,
   "id": "129f6244-39f7-436b-abb9-549fe142ceb7",
   "metadata": {},
   "outputs": [],
   "source": []
  },
  {
   "cell_type": "code",
   "execution_count": null,
   "id": "f477566b-1f35-434d-8061-83bc51858208",
   "metadata": {},
   "outputs": [],
   "source": []
  },
  {
   "cell_type": "code",
   "execution_count": null,
   "id": "8860c469",
   "metadata": {},
   "outputs": [],
   "source": [
    "# 归一化，标准化数据\n",
    "# 再进行比较，\n",
    "# 最好在使用图像进行展示结果"
   ]
  },
  {
   "cell_type": "code",
   "execution_count": null,
   "id": "9856cea1",
   "metadata": {},
   "outputs": [],
   "source": [
    "# 后续：计算，分析，改进\n",
    "# 将数值调整到同一量级\n",
    "# min-max方法"
   ]
  },
  {
   "cell_type": "code",
   "execution_count": 99,
   "id": "b2b4af80",
   "metadata": {},
   "outputs": [
    {
     "data": {
      "text/plain": [
       "array(['Pick场数', '总击杀', '场均KDA', '场均击杀', '场均死亡', '场均助攻', 'GPM', 'XPM',\n",
       "       '被Ban场数', '胜率', '出场率'], dtype=object)"
      ]
     },
     "execution_count": 99,
     "metadata": {},
     "output_type": "execute_result"
    }
   ],
   "source": [
    "data = ori_data.drop('热度',axis=1)\n",
    "name_list = data.keys().values[1:-1]\n",
    "name_list"
   ]
  },
  {
   "cell_type": "code",
   "execution_count": 101,
   "id": "c99a686a",
   "metadata": {},
   "outputs": [
    {
     "data": {
      "text/html": [
       "<div>\n",
       "<style scoped>\n",
       "    .dataframe tbody tr th:only-of-type {\n",
       "        vertical-align: middle;\n",
       "    }\n",
       "\n",
       "    .dataframe tbody tr th {\n",
       "        vertical-align: top;\n",
       "    }\n",
       "\n",
       "    .dataframe thead th {\n",
       "        text-align: right;\n",
       "    }\n",
       "</style>\n",
       "<table border=\"1\" class=\"dataframe\">\n",
       "  <thead>\n",
       "    <tr style=\"text-align: right;\">\n",
       "      <th></th>\n",
       "      <th>英雄</th>\n",
       "      <th>Pick场数</th>\n",
       "      <th>总击杀</th>\n",
       "      <th>场均KDA</th>\n",
       "      <th>场均击杀</th>\n",
       "      <th>场均死亡</th>\n",
       "      <th>场均助攻</th>\n",
       "      <th>GPM</th>\n",
       "      <th>XPM</th>\n",
       "      <th>被Ban场数</th>\n",
       "      <th>胜率</th>\n",
       "      <th>出场率</th>\n",
       "      <th>Ban率</th>\n",
       "    </tr>\n",
       "  </thead>\n",
       "  <tbody>\n",
       "    <tr>\n",
       "      <th>1</th>\n",
       "      <td>猪八戒</td>\n",
       "      <td>1.000</td>\n",
       "      <td>0.309804</td>\n",
       "      <td>0.548000</td>\n",
       "      <td>0.170909</td>\n",
       "      <td>0.472</td>\n",
       "      <td>0.565714</td>\n",
       "      <td>0.427545</td>\n",
       "      <td>0.477287</td>\n",
       "      <td>0.221359</td>\n",
       "      <td>0.50</td>\n",
       "      <td>1.00</td>\n",
       "      <td>0.18</td>\n",
       "    </tr>\n",
       "    <tr>\n",
       "      <th>2</th>\n",
       "      <td>吕布</td>\n",
       "      <td>0.960</td>\n",
       "      <td>0.445752</td>\n",
       "      <td>0.558667</td>\n",
       "      <td>0.256364</td>\n",
       "      <td>0.480</td>\n",
       "      <td>0.552381</td>\n",
       "      <td>0.451247</td>\n",
       "      <td>0.503959</td>\n",
       "      <td>0.132039</td>\n",
       "      <td>0.50</td>\n",
       "      <td>0.95</td>\n",
       "      <td>0.11</td>\n",
       "    </tr>\n",
       "    <tr>\n",
       "      <th>3</th>\n",
       "      <td>廉颇</td>\n",
       "      <td>0.892</td>\n",
       "      <td>0.385621</td>\n",
       "      <td>0.577333</td>\n",
       "      <td>0.238182</td>\n",
       "      <td>0.464</td>\n",
       "      <td>0.550476</td>\n",
       "      <td>0.424661</td>\n",
       "      <td>0.455199</td>\n",
       "      <td>0.081553</td>\n",
       "      <td>0.49</td>\n",
       "      <td>0.90</td>\n",
       "      <td>0.07</td>\n",
       "    </tr>\n",
       "    <tr>\n",
       "      <th>4</th>\n",
       "      <td>娜可露露</td>\n",
       "      <td>0.888</td>\n",
       "      <td>1.000000</td>\n",
       "      <td>0.493333</td>\n",
       "      <td>0.623636</td>\n",
       "      <td>0.506</td>\n",
       "      <td>0.304762</td>\n",
       "      <td>0.871775</td>\n",
       "      <td>0.678891</td>\n",
       "      <td>0.306796</td>\n",
       "      <td>0.46</td>\n",
       "      <td>0.90</td>\n",
       "      <td>0.25</td>\n",
       "    </tr>\n",
       "    <tr>\n",
       "      <th>5</th>\n",
       "      <td>马可波罗</td>\n",
       "      <td>0.804</td>\n",
       "      <td>0.862745</td>\n",
       "      <td>0.741333</td>\n",
       "      <td>0.594545</td>\n",
       "      <td>0.360</td>\n",
       "      <td>0.457143</td>\n",
       "      <td>0.817694</td>\n",
       "      <td>0.679725</td>\n",
       "      <td>0.289320</td>\n",
       "      <td>0.54</td>\n",
       "      <td>0.80</td>\n",
       "      <td>0.24</td>\n",
       "    </tr>\n",
       "  </tbody>\n",
       "</table>\n",
       "</div>"
      ],
      "text/plain": [
       "     英雄  Pick场数       总击杀     场均KDA      场均击杀   场均死亡      场均助攻       GPM  \\\n",
       "1   猪八戒   1.000  0.309804  0.548000  0.170909  0.472  0.565714  0.427545   \n",
       "2    吕布   0.960  0.445752  0.558667  0.256364  0.480  0.552381  0.451247   \n",
       "3    廉颇   0.892  0.385621  0.577333  0.238182  0.464  0.550476  0.424661   \n",
       "4  娜可露露   0.888  1.000000  0.493333  0.623636  0.506  0.304762  0.871775   \n",
       "5  马可波罗   0.804  0.862745  0.741333  0.594545  0.360  0.457143  0.817694   \n",
       "\n",
       "        XPM    被Ban场数    胜率   出场率  Ban率  \n",
       "1  0.477287  0.221359  0.50  1.00  0.18  \n",
       "2  0.503959  0.132039  0.50  0.95  0.11  \n",
       "3  0.455199  0.081553  0.49  0.90  0.07  \n",
       "4  0.678891  0.306796  0.46  0.90  0.25  \n",
       "5  0.679725  0.289320  0.54  0.80  0.24  "
      ]
     },
     "execution_count": 101,
     "metadata": {},
     "output_type": "execute_result"
    }
   ],
   "source": [
    "for col_name in name_list:\n",
    "    col_min = data[col_name].min()\n",
    "    col_max = data[col_name].max()\n",
    "    data[col_name] = (data[col_name]-col_min) / (col_max - col_min)\n",
    "data.head(5)"
   ]
  },
  {
   "cell_type": "code",
   "execution_count": 103,
   "id": "d3d25465",
   "metadata": {},
   "outputs": [
    {
     "name": "stdout",
     "output_type": "stream",
     "text": [
      "英雄\n",
      "Pick场数\n",
      "总击杀\n",
      "场均KDA\n",
      "场均击杀\n",
      "场均死亡\n",
      "场均助攻\n",
      "GPM\n",
      "XPM\n",
      "被Ban场数\n",
      "胜率\n",
      "出场率\n",
      "Ban率\n"
     ]
    }
   ],
   "source": [
    "list = data.keys()\n",
    "for i in list:\n",
    "    print(i,end='\\n')"
   ]
  },
  {
   "cell_type": "code",
   "execution_count": null,
   "id": "513013d7-411b-4248-b542-bd7a54e12010",
   "metadata": {},
   "outputs": [],
   "source": [
    "# Pick场数 * 1.25\n",
    "# 总击杀 * 2.0\n",
    "# 场均KDA * 1.0\n",
    "# 场均击杀 *1.5\n",
    "# 场均死亡 * -1.5\n",
    "# 场均助攻 * 1.75\n",
    "# GPM * 1.0\n",
    "# XPM * 1.0\n",
    "# 被Ban场数 * 1.25\n",
    "# 胜率 * 1.5\n",
    "# 出场率 * 1.5"
   ]
  },
  {
   "cell_type": "code",
   "execution_count": 105,
   "id": "edb4f7dd-1841-4e53-9190-ca6c55956170",
   "metadata": {},
   "outputs": [
    {
     "data": {
      "text/html": [
       "<div>\n",
       "<style scoped>\n",
       "    .dataframe tbody tr th:only-of-type {\n",
       "        vertical-align: middle;\n",
       "    }\n",
       "\n",
       "    .dataframe tbody tr th {\n",
       "        vertical-align: top;\n",
       "    }\n",
       "\n",
       "    .dataframe thead th {\n",
       "        text-align: right;\n",
       "    }\n",
       "</style>\n",
       "<table border=\"1\" class=\"dataframe\">\n",
       "  <thead>\n",
       "    <tr style=\"text-align: right;\">\n",
       "      <th></th>\n",
       "      <th>英雄</th>\n",
       "      <th>Pick场数</th>\n",
       "      <th>总击杀</th>\n",
       "      <th>场均KDA</th>\n",
       "      <th>场均击杀</th>\n",
       "      <th>场均死亡</th>\n",
       "      <th>场均助攻</th>\n",
       "      <th>GPM</th>\n",
       "      <th>XPM</th>\n",
       "      <th>被Ban场数</th>\n",
       "      <th>胜率</th>\n",
       "      <th>出场率</th>\n",
       "      <th>Ban率</th>\n",
       "    </tr>\n",
       "  </thead>\n",
       "  <tbody>\n",
       "    <tr>\n",
       "      <th>1</th>\n",
       "      <td>猪八戒</td>\n",
       "      <td>1.250</td>\n",
       "      <td>0.619608</td>\n",
       "      <td>0.548000</td>\n",
       "      <td>0.256364</td>\n",
       "      <td>-0.708</td>\n",
       "      <td>0.990000</td>\n",
       "      <td>0.427545</td>\n",
       "      <td>0.477287</td>\n",
       "      <td>0.276699</td>\n",
       "      <td>0.750</td>\n",
       "      <td>1.500</td>\n",
       "      <td>0.18</td>\n",
       "    </tr>\n",
       "    <tr>\n",
       "      <th>2</th>\n",
       "      <td>吕布</td>\n",
       "      <td>1.200</td>\n",
       "      <td>0.891503</td>\n",
       "      <td>0.558667</td>\n",
       "      <td>0.384545</td>\n",
       "      <td>-0.720</td>\n",
       "      <td>0.966667</td>\n",
       "      <td>0.451247</td>\n",
       "      <td>0.503959</td>\n",
       "      <td>0.165049</td>\n",
       "      <td>0.750</td>\n",
       "      <td>1.425</td>\n",
       "      <td>0.11</td>\n",
       "    </tr>\n",
       "    <tr>\n",
       "      <th>3</th>\n",
       "      <td>廉颇</td>\n",
       "      <td>1.115</td>\n",
       "      <td>0.771242</td>\n",
       "      <td>0.577333</td>\n",
       "      <td>0.357273</td>\n",
       "      <td>-0.696</td>\n",
       "      <td>0.963333</td>\n",
       "      <td>0.424661</td>\n",
       "      <td>0.455199</td>\n",
       "      <td>0.101942</td>\n",
       "      <td>0.735</td>\n",
       "      <td>1.350</td>\n",
       "      <td>0.07</td>\n",
       "    </tr>\n",
       "    <tr>\n",
       "      <th>4</th>\n",
       "      <td>娜可露露</td>\n",
       "      <td>1.110</td>\n",
       "      <td>2.000000</td>\n",
       "      <td>0.493333</td>\n",
       "      <td>0.935455</td>\n",
       "      <td>-0.759</td>\n",
       "      <td>0.533333</td>\n",
       "      <td>0.871775</td>\n",
       "      <td>0.678891</td>\n",
       "      <td>0.383495</td>\n",
       "      <td>0.690</td>\n",
       "      <td>1.350</td>\n",
       "      <td>0.25</td>\n",
       "    </tr>\n",
       "    <tr>\n",
       "      <th>5</th>\n",
       "      <td>马可波罗</td>\n",
       "      <td>1.005</td>\n",
       "      <td>1.725490</td>\n",
       "      <td>0.741333</td>\n",
       "      <td>0.891818</td>\n",
       "      <td>-0.540</td>\n",
       "      <td>0.800000</td>\n",
       "      <td>0.817694</td>\n",
       "      <td>0.679725</td>\n",
       "      <td>0.361650</td>\n",
       "      <td>0.810</td>\n",
       "      <td>1.200</td>\n",
       "      <td>0.24</td>\n",
       "    </tr>\n",
       "  </tbody>\n",
       "</table>\n",
       "</div>"
      ],
      "text/plain": [
       "     英雄  Pick场数       总击杀     场均KDA      场均击杀   场均死亡      场均助攻       GPM  \\\n",
       "1   猪八戒   1.250  0.619608  0.548000  0.256364 -0.708  0.990000  0.427545   \n",
       "2    吕布   1.200  0.891503  0.558667  0.384545 -0.720  0.966667  0.451247   \n",
       "3    廉颇   1.115  0.771242  0.577333  0.357273 -0.696  0.963333  0.424661   \n",
       "4  娜可露露   1.110  2.000000  0.493333  0.935455 -0.759  0.533333  0.871775   \n",
       "5  马可波罗   1.005  1.725490  0.741333  0.891818 -0.540  0.800000  0.817694   \n",
       "\n",
       "        XPM    被Ban场数     胜率    出场率  Ban率  \n",
       "1  0.477287  0.276699  0.750  1.500  0.18  \n",
       "2  0.503959  0.165049  0.750  1.425  0.11  \n",
       "3  0.455199  0.101942  0.735  1.350  0.07  \n",
       "4  0.678891  0.383495  0.690  1.350  0.25  \n",
       "5  0.679725  0.361650  0.810  1.200  0.24  "
      ]
     },
     "execution_count": 105,
     "metadata": {},
     "output_type": "execute_result"
    }
   ],
   "source": [
    "data.Pick场数 *= 1.25\n",
    "data.总击杀 *= 2.0\n",
    "data.场均KDA *= 1.0\n",
    "data.场均击杀 *=1.5\n",
    "data.场均死亡 *= -1.5\n",
    "data.场均助攻 *= 1.75\n",
    "data.GPM *= 1.0\n",
    "data.XPM *= 1.0\n",
    "data.被Ban场数 *= 1.25\n",
    "data.胜率 *= 1.5\n",
    "data.出场率 *= 1.5\n",
    "data.head()"
   ]
  },
  {
   "cell_type": "code",
   "execution_count": 107,
   "id": "30f58b3d-1169-48ab-ac69-575cd7daefe1",
   "metadata": {},
   "outputs": [
    {
     "name": "stdout",
     "output_type": "stream",
     "text": [
      "<class 'pandas.core.frame.DataFrame'>\n",
      "Index: 83 entries, 6 to 82\n",
      "Data columns (total 2 columns):\n",
      " #   Column  Non-Null Count  Dtype \n",
      "---  ------  --------------  ----- \n",
      " 0   英雄      83 non-null     object\n",
      " 1   英雄得分    83 non-null     int32 \n",
      "dtypes: int32(1), object(1)\n",
      "memory usage: 1.6+ KB\n"
     ]
    }
   ],
   "source": [
    "new_score = []\n",
    "n  = 0\n",
    "data_value = data.values\n",
    "for line_index in range(data_value.shape[0]):\n",
    "    hero_name = data_value[line_index,0]\n",
    "    hero_score = np.mean(data_value[line_index,1:])\n",
    "#     print(type(hero_score))\n",
    "    hero_score = int(hero_score* 100) \n",
    "    new_score.append([hero_name,hero_score])\n",
    "\n",
    "    \n",
    "score_data = pd.DataFrame(np.array(new_score),columns=['英雄','英雄得分'])\n",
    "score_data.英雄得分 = score_data.英雄得分.values.astype(int)\n",
    "score_data = score_data.sort_values(by='英雄得分',ascending=False)\n",
    "\n",
    "\n",
    "score_data.info()"
   ]
  },
  {
   "cell_type": "code",
   "execution_count": 109,
   "id": "f9cb008f-7b13-4061-ac0a-cc5cda947b50",
   "metadata": {},
   "outputs": [
    {
     "data": {
      "text/html": [
       "<div>\n",
       "<style scoped>\n",
       "    .dataframe tbody tr th:only-of-type {\n",
       "        vertical-align: middle;\n",
       "    }\n",
       "\n",
       "    .dataframe tbody tr th {\n",
       "        vertical-align: top;\n",
       "    }\n",
       "\n",
       "    .dataframe thead th {\n",
       "        text-align: right;\n",
       "    }\n",
       "</style>\n",
       "<table border=\"1\" class=\"dataframe\">\n",
       "  <thead>\n",
       "    <tr style=\"text-align: right;\">\n",
       "      <th></th>\n",
       "      <th>英雄</th>\n",
       "      <th>英雄得分</th>\n",
       "    </tr>\n",
       "  </thead>\n",
       "  <tbody>\n",
       "    <tr>\n",
       "      <th>6</th>\n",
       "      <td>镜</td>\n",
       "      <td>77</td>\n",
       "    </tr>\n",
       "    <tr>\n",
       "      <th>4</th>\n",
       "      <td>马可波罗</td>\n",
       "      <td>72</td>\n",
       "    </tr>\n",
       "    <tr>\n",
       "      <th>3</th>\n",
       "      <td>娜可露露</td>\n",
       "      <td>71</td>\n",
       "    </tr>\n",
       "    <tr>\n",
       "      <th>27</th>\n",
       "      <td>澜</td>\n",
       "      <td>70</td>\n",
       "    </tr>\n",
       "    <tr>\n",
       "      <th>11</th>\n",
       "      <td>公孙离</td>\n",
       "      <td>67</td>\n",
       "    </tr>\n",
       "    <tr>\n",
       "      <th>9</th>\n",
       "      <td>沈梦溪</td>\n",
       "      <td>64</td>\n",
       "    </tr>\n",
       "    <tr>\n",
       "      <th>14</th>\n",
       "      <td>虞姬</td>\n",
       "      <td>62</td>\n",
       "    </tr>\n",
       "  </tbody>\n",
       "</table>\n",
       "</div>"
      ],
      "text/plain": [
       "      英雄  英雄得分\n",
       "6      镜    77\n",
       "4   马可波罗    72\n",
       "3   娜可露露    71\n",
       "27     澜    70\n",
       "11   公孙离    67\n",
       "9    沈梦溪    64\n",
       "14    虞姬    62"
      ]
     },
     "execution_count": 109,
     "metadata": {},
     "output_type": "execute_result"
    }
   ],
   "source": [
    "score_data.head(7)"
   ]
  },
  {
   "cell_type": "code",
   "execution_count": 113,
   "id": "0f7b5dc4-2b91-4793-a5e6-e8247a8f05d9",
   "metadata": {},
   "outputs": [],
   "source": [
    "# 可视化结果。\n",
    "def plot_score(score_data):\n",
    "    plt.figure(figsize=(16,9))\n",
    "    for one_score in score_data.values[0:20]:\n",
    "        plt.bar(x = one_score[0],height=float(one_score[1]),label =one_score[0])\n",
    "#     黑体字，和微软雅黑\n",
    "    plt.rcParams['font.sans-serif'] = ['SimHei']\n",
    "    plt.rcParams['font.sans-serif'] = ['Microsoft YaHei']\n",
    "    plt.title('英雄实力数据分析结果')\n",
    "    plt.ylabel('英雄强力指标出现次数')\n",
    "    plt.xticks(rotation=45)\n",
    "\n",
    "#     展示图像内容\n",
    "    plt.show()"
   ]
  },
  {
   "cell_type": "code",
   "execution_count": 115,
   "id": "6c1c54e4-377d-4033-bac8-df03749bf351",
   "metadata": {},
   "outputs": [
    {
     "data": {
      "image/png": "[encoded data removed]",
      "text/plain": [
       "<Figure size 1600x900 with 1 Axes>"
      ]
     },
     "metadata": {},
     "output_type": "display_data"
    }
   ],
   "source": [
    "plot_score(score_data)"
   ]
  },
  {
   "cell_type": "code",
   "execution_count": null,
   "id": "f367d0d5-5573-45dc-baec-02c9cfb192a5",
   "metadata": {},
   "outputs": [],
   "source": []
  },
  {
   "cell_type": "code",
   "execution_count": null,
   "id": "7243ee77-0a61-4903-ba9f-d2280d5d838f",
   "metadata": {},
   "outputs": [],
   "source": []
  },
  {
   "cell_type": "code",
   "execution_count": null,
   "id": "f7035629-dffd-46b7-9795-f5ed61de13e6",
   "metadata": {},
   "outputs": [],
   "source": []
  },
  {
   "cell_type": "code",
   "execution_count": null,
   "id": "ad722616-f92b-4b8b-a15c-1584da9877ce",
   "metadata": {},
   "outputs": [],
   "source": []
  },
  {
   "cell_type": "code",
   "execution_count": null,
   "id": "76b9eaeb-bab4-43d1-a474-2cc25f87c907",
   "metadata": {},
   "outputs": [],
   "source": []
  },
  {
   "cell_type": "code",
   "execution_count": null,
   "id": "35a07118-fb35-457c-93ed-88605826b0b8",
   "metadata": {},
   "outputs": [],
   "source": []
  },
  {
   "cell_type": "code",
   "execution_count": null,
   "id": "f39c0744",
   "metadata": {},
   "outputs": [],
   "source": []
  },
  {
   "cell_type": "code",
   "execution_count": null,
   "id": "f6e9e120",
   "metadata": {},
   "outputs": [],
   "source": []
  }
 ],
 "metadata": {
  "kernelspec": {
   "display_name": "Python [conda env:base] *",
   "language": "python",
   "name": "conda-base-py"
  },
  "language_info": {
   "codemirror_mode": {
    "name": "ipython",
    "version": 3
   },
   "file_extension": ".py",
   "mimetype": "text/x-python",
   "name": "python",
   "nbconvert_exporter": "python",
   "pygments_lexer": "ipython3",
   "version": "3.12.7"
  }
 },
 "nbformat": 4,
 "nbformat_minor": 5
}

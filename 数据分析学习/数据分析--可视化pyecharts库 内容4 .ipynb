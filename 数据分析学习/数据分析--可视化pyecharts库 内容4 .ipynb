{
 "cells": [
  {
   "cell_type": "code",
   "execution_count": 1,
   "id": "abaca0c6",
   "metadata": {},
   "outputs": [],
   "source": [
    "# Page方法"
   ]
  },
  {
   "cell_type": "code",
   "execution_count": 3,
   "id": "51084bdb",
   "metadata": {},
   "outputs": [],
   "source": [
    "# 练习：\n",
    "# 我们写,柱状图，折线图，饼状图，地图各写一个"
   ]
  },
  {
   "cell_type": "code",
   "execution_count": 33,
   "id": "b65b472c",
   "metadata": {},
   "outputs": [],
   "source": [
    "from pyecharts import options as opts\n",
    "from pyecharts.charts import Bar,Line,Pie,Map, Grid, Geo, Page\n",
    "from pyecharts.commons.utils import JsCode\n",
    "from pyecharts.globals import ChartType,SymbolType\n",
    "from pyecharts.faker import Faker"
   ]
  },
  {
   "cell_type": "code",
   "execution_count": 35,
   "id": "86162079",
   "metadata": {},
   "outputs": [],
   "source": [
    "# a绑定柱状图\n",
    "a = (\n",
    "    Bar()\n",
    "    .add_xaxis(['苹果','车厘子','香蕉'])\n",
    "    .add_yaxis('商店A水果销量',[111,150,120])\n",
    "    .add_yaxis('商店B水果销量',[121,110,100],category_gap=0,color='red')\n",
    "    .set_global_opts(title_opts=opts.TitleOpts(title='商店水果销售情况表',\n",
    "                                               subtitle='副标题'))\n",
    "    .set_series_opts(label_opts=opts.LabelOpts(is_show=False),\n",
    "                     markline_opts=opts.MarkLineOpts(\n",
    "                         data=[opts.MarkLineItem(y=120,name='销量预期')]\n",
    "                     ))\n",
    ")"
   ]
  },
  {
   "cell_type": "code",
   "execution_count": 37,
   "id": "48a73974",
   "metadata": {},
   "outputs": [],
   "source": [
    "# b 绑定折线图\n",
    "b = (\n",
    "    Line()\n",
    "    .add_xaxis(Faker.choose())\n",
    "    .add_yaxis('A',Faker.values())\n",
    "    .add_yaxis('B',Faker.values())\n",
    "    .add_yaxis('C',Faker.values())\n",
    ")\n"
   ]
  },
  {
   "cell_type": "code",
   "execution_count": 39,
   "id": "5f353c33",
   "metadata": {},
   "outputs": [],
   "source": [
    "# c绑定饼状图\n",
    "c = (\n",
    "    Pie()\n",
    "    .add('动物园当中动物比例',[('兔子',100),('狮子',2),('鬣狗',10)])\n",
    "    \n",
    ")\n"
   ]
  },
  {
   "cell_type": "code",
   "execution_count": 41,
   "id": "20bc027a",
   "metadata": {},
   "outputs": [],
   "source": [
    "# d 绑定地图\n",
    "d = (\n",
    "    Geo()\n",
    "    .add_schema(\n",
    "        maptype=\n",
    "        'china',\n",
    "        itemstyle_opts=opts.ItemStyleOpts(color= \"#999\",border_color='#111')\n",
    "    )\n",
    "    .add(\n",
    "        '',\n",
    "        [('广州',100),('北京',200),('上海',120),('宁夏',80),('云南',70)]\n",
    "        \n",
    "    )\n",
    "    .add(\n",
    "        '线段',\n",
    "        [('北京','广州'),('北京','上海'),('北京','宁夏'),('北京','云南')],\n",
    "        type_=ChartType.LINES,\n",
    "        effect_opts=opts.EffectOpts(\n",
    "            symbol=SymbolType.ARROW,symbol_size=5,color='red'\n",
    "        )\n",
    "    )\n",
    "    .set_global_opts()\n",
    ")\n"
   ]
  },
  {
   "cell_type": "code",
   "execution_count": 45,
   "id": "f30e5a1f",
   "metadata": {},
   "outputs": [
    {
     "name": "stderr",
     "output_type": "stream",
     "text": [
      "<>:9: SyntaxWarning: invalid escape sequence '\\p'\n",
      "<>:9: SyntaxWarning: invalid escape sequence '\\p'\n",
      "C:\\Users\\BACK\\AppData\\Local\\Temp\\ipykernel_34672\\932292659.py:9: SyntaxWarning: invalid escape sequence '\\p'\n",
      "  page.render(\"可视化图表\\page1.html\")\n"
     ]
    }
   ],
   "source": [
    "def page_simple_layout():\n",
    "    page = Page(layout=Page.SimplePageLayout)\n",
    "    page.add(\n",
    "        a,\n",
    "        b,\n",
    "        c,\n",
    "        d,\n",
    "    )\n",
    "    page.render(\"可视化图表\\page1.html\")"
   ]
  },
  {
   "cell_type": "code",
   "execution_count": 47,
   "id": "501e7406",
   "metadata": {},
   "outputs": [],
   "source": [
    "page_simple_layout()"
   ]
  },
  {
   "cell_type": "code",
   "execution_count": 49,
   "id": "038f9554",
   "metadata": {},
   "outputs": [],
   "source": [
    "page = page_simple_layout()"
   ]
  },
  {
   "cell_type": "code",
   "execution_count": 51,
   "id": "7cff3a7a",
   "metadata": {},
   "outputs": [],
   "source": [
    "page"
   ]
  },
  {
   "cell_type": "code",
   "execution_count": null,
   "id": "05aed118",
   "metadata": {},
   "outputs": [],
   "source": []
  },
  {
   "cell_type": "code",
   "execution_count": 24,
   "id": "3abb5292",
   "metadata": {},
   "outputs": [],
   "source": [
    "# 在页面中使用贴图的方法"
   ]
  },
  {
   "cell_type": "code",
   "execution_count": 26,
   "id": "e890610b",
   "metadata": {},
   "outputs": [],
   "source": [
    "from pyecharts import options as opts\n",
    "from pyecharts.charts import Bar\n",
    "from pyecharts.faker import Faker"
   ]
  },
  {
   "cell_type": "code",
   "execution_count": 28,
   "id": "ac6d1e50",
   "metadata": {},
   "outputs": [
    {
     "data": {
      "text/plain": [
       "'E:\\\\jupyterNotebook\\\\redata\\\\数据分析学习\\\\可视化图表\\\\贴图水印.html'"
      ]
     },
     "execution_count": 28,
     "metadata": {},
     "output_type": "execute_result"
    }
   ],
   "source": [
    "e = (\n",
    "    Bar()\n",
    "    .add_xaxis(Faker.choose())\n",
    "    .add_yaxis('B',Faker.values())\n",
    "#     重点在opts中进行修饰\n",
    "    .set_global_opts(\n",
    "        title_opts=opts.TitleOpts(title='贴图组件'),\n",
    "        graphic_opts=[\n",
    "            opts.GraphicImage(\n",
    "                graphic_item=opts.GraphicItem(\n",
    "                    id_='logo',right=20,top=20,z=-10,bounding='raw',origin=[75,75]\n",
    "                ),\n",
    "#                 贴图图片链接地址\n",
    "                graphic_imagestyle_opts=opts.GraphicImageStyleOpts(\n",
    "                    image='https://www.ncist.edu.cn/images/header/logo.png',\n",
    "                    width=150,\n",
    "                    height=150,\n",
    "                    opacity=0.4,\n",
    "                )\n",
    "            )\n",
    "        ]\n",
    "    )\n",
    ")\n",
    "e.render('可视化图表/贴图水印.html')"
   ]
  },
  {
   "cell_type": "code",
   "execution_count": 30,
   "id": "5cf2749e",
   "metadata": {},
   "outputs": [],
   "source": [
    "# 练习1:\n",
    "#     在page产生的多个图标中，使用华北科技学院Logo展示在每一个图表当中"
   ]
  },
  {
   "cell_type": "code",
   "execution_count": null,
   "id": "a69e6921",
   "metadata": {},
   "outputs": [],
   "source": []
  },
  {
   "cell_type": "markdown",
   "id": "9e50ad15",
   "metadata": {},
   "source": []
  },
  {
   "cell_type": "code",
   "execution_count": null,
   "id": "3da0059b",
   "metadata": {},
   "outputs": [],
   "source": []
  },
  {
   "cell_type": "code",
   "execution_count": null,
   "id": "99aa45b2",
   "metadata": {},
   "outputs": [],
   "source": []
  },
  {
   "cell_type": "code",
   "execution_count": null,
   "id": "2670b6b0",
   "metadata": {},
   "outputs": [],
   "source": []
  },
  {
   "cell_type": "code",
   "execution_count": null,
   "id": "dc83921d",
   "metadata": {},
   "outputs": [],
   "source": []
  },
  {
   "cell_type": "code",
   "execution_count": null,
   "id": "2cf5622c",
   "metadata": {},
   "outputs": [],
   "source": []
  },
  {
   "cell_type": "code",
   "execution_count": null,
   "id": "6980b5bd",
   "metadata": {},
   "outputs": [],
   "source": []
  },
  {
   "cell_type": "code",
   "execution_count": null,
   "id": "a6e1ae01",
   "metadata": {},
   "outputs": [],
   "source": []
  },
  {
   "cell_type": "code",
   "execution_count": null,
   "id": "3ebd556e",
   "metadata": {},
   "outputs": [],
   "source": []
  },
  {
   "cell_type": "code",
   "execution_count": null,
   "id": "aaa29fd8",
   "metadata": {},
   "outputs": [],
   "source": []
  },
  {
   "cell_type": "code",
   "execution_count": null,
   "id": "a5763706",
   "metadata": {},
   "outputs": [],
   "source": []
  },
  {
   "cell_type": "code",
   "execution_count": null,
   "id": "af0afa1c",
   "metadata": {},
   "outputs": [],
   "source": []
  },
  {
   "cell_type": "code",
   "execution_count": null,
   "id": "43b5a8da",
   "metadata": {},
   "outputs": [],
   "source": []
  },
  {
   "cell_type": "code",
   "execution_count": null,
   "id": "5aa59bfb",
   "metadata": {},
   "outputs": [],
   "source": []
  },
  {
   "cell_type": "code",
   "execution_count": null,
   "id": "d8b6fa93",
   "metadata": {},
   "outputs": [],
   "source": []
  },
  {
   "cell_type": "code",
   "execution_count": null,
   "id": "e953d5d5",
   "metadata": {},
   "outputs": [],
   "source": []
  },
  {
   "cell_type": "code",
   "execution_count": null,
   "id": "6d97590b",
   "metadata": {},
   "outputs": [],
   "source": []
  },
  {
   "cell_type": "code",
   "execution_count": null,
   "id": "5c124abd",
   "metadata": {},
   "outputs": [],
   "source": []
  },
  {
   "cell_type": "code",
   "execution_count": null,
   "id": "150381d8",
   "metadata": {},
   "outputs": [],
   "source": []
  },
  {
   "cell_type": "code",
   "execution_count": null,
   "id": "fde73c4c",
   "metadata": {},
   "outputs": [],
   "source": []
  }
 ],
 "metadata": {
  "kernelspec": {
   "display_name": "Python [conda env:base] *",
   "language": "python",
   "name": "conda-base-py"
  },
  "language_info": {
   "codemirror_mode": {
    "name": "ipython",
    "version": 3
   },
   "file_extension": ".py",
   "mimetype": "text/x-python",
   "name": "python",
   "nbconvert_exporter": "python",
   "pygments_lexer": "ipython3",
   "version": "3.12.7"
  }
 },
 "nbformat": 4,
 "nbformat_minor": 5
}
